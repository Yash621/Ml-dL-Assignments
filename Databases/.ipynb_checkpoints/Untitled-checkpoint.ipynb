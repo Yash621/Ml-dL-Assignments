{
 "cells": [
  {
   "cell_type": "code",
   "execution_count": 136,
   "id": "37abd8b2",
   "metadata": {},
   "outputs": [],
   "source": [
    "import mysql.connector as conn\n",
    "import csv\n",
    "mydb = conn.connect(host=\"localhost\", user=\"root\", passwd=\"fsc\", use_pure=True)\n",
    "curr = mydb.cursor()\n",
    "arr = []\n",
    "with open('carbon_nanotubes.csv', 'r') as data:\n",
    "    data_csv = csv.reader(data, delimiter=\"\\n\")\n",
    "    column = ''\n",
    "    for i in data_csv:\n",
    "        k = 1\n",
    "        column = i[0]\n",
    "        if(k == 1):\n",
    "            break\n",
    "    x = 1\n",
    "    for i in data_csv:\n",
    "            a = ''\n",
    "            b = False\n",
    "            c=False\n",
    "            for j in range(0, len(i[0])):\n",
    "                if(i[0][j] != ';'):\n",
    "                    if(c==True):\n",
    "                        c=False\n",
    "                        continue\n",
    "                    if(b == False):\n",
    "                        a += i[0][j]\n",
    "                    else:\n",
    "                        if(i[0][j]!='0'):\n",
    "                            a += i[0][j]\n",
    "                        else:\n",
    "                            c=True             \n",
    "                        b=False\n",
    "                else:\n",
    "                    a += ','\n",
    "                    b = True\n",
    "            arr.append(a)\n",
    "        \n",
    "queries = [\"USE CARBONATOM\",\"CREATE TABLE ATOMICITYYYY\",\n",
    "           \"INSERT INTO ATOMICITYYYY VALUES\"]\n",
    "for query in range(0, len(queries)):\n",
    "    if query == 1:\n",
    "        b=queries[1]\n",
    "        z=[]\n",
    "        q=''\n",
    "        for i in column:\n",
    "            if(i==';'):\n",
    "                z.append(q)\n",
    "                q=''\n",
    "            elif(i!=\"'\"):\n",
    "                if(i==' '):\n",
    "                    q+='_'\n",
    "                else:\n",
    "                    q+=i\n",
    "        z.append(q)\n",
    "        b+=\"(\"\n",
    "        f=\"\"\n",
    "        for i in range(0,len(z)):\n",
    "             b+=(z[i]+\" varchar(20),\")\n",
    "        fstr=b[0:len(b)-1]\n",
    "        fstr+=\")\"\n",
    "        curr=mydb.cursor()\n",
    "        curr.execute(fstr)\n",
    "    elif query == 2:\n",
    "        for v in arr:\n",
    "          curr = mydb.cursor()\n",
    "          if v[len(v)-1]==',':\n",
    "              v+=\"765378\"\n",
    "          curr.execute(queries[2]+\"({val})\".format(val=((v))))\n",
    "    else:\n",
    "        curr = mydb.cursor()\n",
    "        curr.execute(queries[query])\n",
    "\n",
    "mydb.commit()\n",
    "    "
   ]
  },
  {
   "cell_type": "code",
   "execution_count": null,
   "id": "41dddfb7",
   "metadata": {},
   "outputs": [],
   "source": []
  },
  {
   "cell_type": "code",
   "execution_count": null,
   "id": "849ac3ba",
   "metadata": {},
   "outputs": [],
   "source": []
  },
  {
   "cell_type": "code",
   "execution_count": null,
   "id": "672f48de",
   "metadata": {},
   "outputs": [],
   "source": []
  }
 ],
 "metadata": {
  "kernelspec": {
   "display_name": "Python 3.8.8 64-bit ('anaconda3': virtualenv)",
   "language": "python",
   "name": "python388jvsc74a57bd0286e774b504df13e04a7d8e77e6d4af77665f84c20482e9e6db1a1f534c37820"
  },
  "language_info": {
   "codemirror_mode": {
    "name": "ipython",
    "version": 3
   },
   "file_extension": ".py",
   "mimetype": "text/x-python",
   "name": "python",
   "nbconvert_exporter": "python",
   "pygments_lexer": "ipython3",
   "version": "3.8.8"
  },
  "metadata": {
   "interpreter": {
    "hash": "286e774b504df13e04a7d8e77e6d4af77665f84c20482e9e6db1a1f534c37820"
   }
  }
 },
 "nbformat": 4,
 "nbformat_minor": 5
}