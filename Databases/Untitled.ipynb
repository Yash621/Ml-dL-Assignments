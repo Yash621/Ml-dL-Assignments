{
 "cells": [
  {
   "cell_type": "code",
   "execution_count": 59,
   "id": "37abd8b2",
   "metadata": {},
   "outputs": [
    {
     "name": "stdout",
     "output_type": "stream",
     "text": [
      "CREATE TABLE ATOMICITY(Chiral_indice_n varchar(20),Chiral_indice_m varchar(20),Initial_atomic_coordinate_u varchar(20),Initial_atomic_coordinate_v varchar(20),Initial_atomic_coordinate_w varchar(20),Calculated_atomic_coordinates_u' varchar(20),Calculated_atomic_coordinates_v' varchar(20),Calculated_atomic_coordinates_w' varchar(20));\n"
     ]
    }
   ],
   "source": [
    "import mysql.connector as conn\n",
    "import csv\n",
    "mydb = conn.connect(host=\"localhost\", user=\"root\", passwd=\"fsc\", use_pure=True)\n",
    "curr = mydb.cursor()\n",
    "arr=[]\n",
    "with open('carbon_nanotubes.csv', 'r') as data:\n",
    "    data_csv = csv.reader(data, delimiter=\"\\n\")\n",
    "    column=''\n",
    "    for i in data_csv:\n",
    "     k=1;\n",
    "     column=i[0]\n",
    "     if(k==1):\n",
    "        break;\n",
    "    x=True\n",
    "    for i in data_csv:\n",
    "     if(x==False):\n",
    "       a=''\n",
    "       b=False\n",
    "       c=False\n",
    "       for j in range(0,len(i[0])):\n",
    "          if(i[0][j]!=';'):\n",
    "            if(b==False and c==False):\n",
    "               a+=i[0][j]\n",
    "               c=False\n",
    "            elif(i[0][j]=='1'):\n",
    "                a+=i[0][j]\n",
    "                b=False\n",
    "            else:\n",
    "                b=False\n",
    "                if(c==False):\n",
    "                   c=True\n",
    "                else:\n",
    "                   c=False\n",
    "          else:\n",
    "            a+=','\n",
    "            b=True \n",
    "       arr.append(a)\n",
    "    x=False\n",
    "queries=[\"USE CARBONATOM\",\"CREATE TABLE ATOMICITY\",\"INSERT INTO TABLE VALUES\"]\n",
    "for query in range(0,len(queries)):\n",
    "    if query==1:\n",
    "        b=queries[1]\n",
    "        z=[]\n",
    "        q=''\n",
    "        for i in column:\n",
    "            if(i==';'):\n",
    "                z.append(q)\n",
    "                q=''\n",
    "            else:\n",
    "                if(i==' '):\n",
    "                    q+='_'\n",
    "                else:\n",
    "                    q+=i\n",
    "        z.append(q)\n",
    "        b+=\"(\"\n",
    "        for i in range(0,len(z)):\n",
    "          b+=(z[i]+\" varchar(20),\")\n",
    "        fstr=b[0:len(b)-1]\n",
    "        fstr+=\")\"\n",
    "        curr=mydb.cursor()\n",
    "        print(fstr+\";\")\n",
    "#         curr.execute(fstr+\";\")\n",
    "    elif query==2:\n",
    "        for v in arr:\n",
    "            curr=mydb.cursor()\n",
    "            curr.execute(queries[2]+\"({val})\".format(val=(v))+\";\")\n",
    "    else:\n",
    "        curr=mydb.cursor()\n",
    "        curr.execute(queries[query])\n",
    "        \n",
    "        \n",
    "\n",
    "    \n",
    "    "
   ]
  },
  {
   "cell_type": "code",
   "execution_count": null,
   "id": "41dddfb7",
   "metadata": {},
   "outputs": [],
   "source": []
  },
  {
   "cell_type": "code",
   "execution_count": null,
   "id": "849ac3ba",
   "metadata": {},
   "outputs": [],
   "source": []
  },
  {
   "cell_type": "code",
   "execution_count": null,
   "id": "672f48de",
   "metadata": {},
   "outputs": [],
   "source": []
  }
 ],
 "metadata": {
  "kernelspec": {
   "display_name": "Python 3",
   "language": "python",
   "name": "python3"
  },
  "language_info": {
   "codemirror_mode": {
    "name": "ipython",
    "version": 3
   },
   "file_extension": ".py",
   "mimetype": "text/x-python",
   "name": "python",
   "nbconvert_exporter": "python",
   "pygments_lexer": "ipython3",
   "version": "3.8.8"
  }
 },
 "nbformat": 4,
 "nbformat_minor": 5
}
