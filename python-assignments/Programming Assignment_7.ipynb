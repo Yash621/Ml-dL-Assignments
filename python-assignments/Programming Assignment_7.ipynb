{
 "cells": [
  {
   "cell_type": "markdown",
   "source": [
    "## ans 1"
   ],
   "metadata": {}
  },
  {
   "cell_type": "code",
   "execution_count": 2,
   "source": [
    "def count_layers(a):\n",
    "    r=len(a)\n",
    "    c=len(a[0])\n",
    "    return int(min(r/(3-1),c/(3-1)))+1\n",
    "\n",
    "count_layers([\n",
    "\"AAAA\",\n",
    "\"ABBA\",\n",
    "\"AAAA\"])"
   ],
   "outputs": [
    {
     "output_type": "execute_result",
     "data": {
      "text/plain": [
       "2"
      ]
     },
     "metadata": {},
     "execution_count": 2
    }
   ],
   "metadata": {}
  },
  {
   "cell_type": "markdown",
   "source": [
    "## ans 2"
   ],
   "metadata": {}
  },
  {
   "cell_type": "code",
   "execution_count": 15,
   "source": [
    "def unique_styles(a):\n",
    "    q=[]\n",
    "    for i in a:\n",
    "        x=i.split(\",\")\n",
    "        q=q+x\n",
    "    q.sort()\n",
    "    ans=0    \n",
    "    for i in range(0,len(q)-1):\n",
    "        if q[i]!=q[i+1]:\n",
    "           ans=ans+1\n",
    "    return ans+1\n",
    "\n",
    "unique_styles([\n",
    "\"Soul\",\n",
    "\"House,Folk\",\n",
    "\"Trance,Downtempo,Big Beat,House\",\n",
    "\"Deep House\",\n",
    "\"Soul\"\n",
    "])"
   ],
   "outputs": [
    {
     "output_type": "execute_result",
     "data": {
      "text/plain": [
       "7"
      ]
     },
     "metadata": {},
     "execution_count": 15
    }
   ],
   "metadata": {}
  },
  {
   "cell_type": "markdown",
   "source": [
    "## ans 3"
   ],
   "metadata": {}
  },
  {
   "cell_type": "code",
   "execution_count": 27,
   "source": [
    "def is_prime(a): \n",
    "    p=[2, 3, 5, 7, 11, 13, 17, 19, 23, 29, 31, 37, 41, 43, 47, 53, 59, 61, 67,\n",
    "    71, 73, 79, 83, 89, 97]\n",
    "    b=0\n",
    "    d=len(p)\n",
    "    prev=0\n",
    "    while (b < d):\n",
    "        m=int((b+d)/2)\n",
    "        if m==prev:\n",
    "           return False\n",
    "        prev=m\n",
    "        if p[m]>a:\n",
    "           d=m\n",
    "        elif p[m]<a:\n",
    "           b=m\n",
    "        else:\n",
    "           return True        \n",
    "    return False  \n",
    "is_prime(36)"
   ],
   "outputs": [
    {
     "output_type": "execute_result",
     "data": {
      "text/plain": [
       "False"
      ]
     },
     "metadata": {},
     "execution_count": 27
    }
   ],
   "metadata": {}
  },
  {
   "cell_type": "markdown",
   "source": [
    "## ans 4"
   ],
   "metadata": {}
  },
  {
   "cell_type": "code",
   "execution_count": 6,
   "source": [
    "def power_ranger(n,a,b):\n",
    "    z=1\n",
    "    ans=0\n",
    "    while True:\n",
    "       if z**n>b:\n",
    "           break\n",
    "       if z**n>=a and z*n<=b:\n",
    "          ans=ans + 1       \n",
    "       z=z + 1\n",
    "    return ans\n",
    "\n",
    "power_ranger(3,1,27)"
   ],
   "outputs": [
    {
     "output_type": "execute_result",
     "data": {
      "text/plain": [
       "3"
      ]
     },
     "metadata": {},
     "execution_count": 6
    }
   ],
   "metadata": {}
  },
  {
   "cell_type": "markdown",
   "source": [
    "## ans 5"
   ],
   "metadata": {}
  },
  {
   "cell_type": "code",
   "execution_count": 10,
   "source": [
    "def rearranged_difference(a):\n",
    "    x=[]\n",
    "    for i in range(1,len(str(a))+1):\n",
    "        z=str(a%(10**i))\n",
    "        x.append(int(z[0]))\n",
    "    x.sort()\n",
    "    ans=\"\"\n",
    "    for i in x:\n",
    "        ans=ans+str(i)\n",
    "    return (int(ans[::-1]))-(int(ans))\n",
    "    \n",
    "rearranged_difference(3320707)"
   ],
   "outputs": [
    {
     "output_type": "execute_result",
     "data": {
      "text/plain": [
       "5439555"
      ]
     },
     "metadata": {},
     "execution_count": 10
    }
   ],
   "metadata": {}
  }
 ],
 "metadata": {
  "orig_nbformat": 4,
  "language_info": {
   "name": "python",
   "version": "3.8.8",
   "mimetype": "text/x-python",
   "codemirror_mode": {
    "name": "ipython",
    "version": 3
   },
   "pygments_lexer": "ipython3",
   "nbconvert_exporter": "python",
   "file_extension": ".py"
  },
  "kernelspec": {
   "name": "python3",
   "display_name": "Python 3.8.8 64-bit ('base': conda)"
  },
  "interpreter": {
   "hash": "286e774b504df13e04a7d8e77e6d4af77665f84c20482e9e6db1a1f534c37820"
  }
 },
 "nbformat": 4,
 "nbformat_minor": 2
}