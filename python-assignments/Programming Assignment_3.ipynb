{
 "cells": [
  {
   "cell_type": "markdown",
   "source": [
    "## ans 1"
   ],
   "metadata": {}
  },
  {
   "cell_type": "code",
   "execution_count": 3,
   "source": [
    "def arithmetic_operation(s):\n",
    "    a=s.split(\" \")\n",
    "    if a[1]==\"+\":\n",
    "       return int(a[0])+int(a[2])\n",
    "    if a[1]==\"-\":\n",
    "       return int(a[0])-int(a[2])   \n",
    "    if a[1]==\"*\":\n",
    "       return int(a[0])*int(a[2])\n",
    "    if a[1]==\"//\":\n",
    "       return int(a[0])/int(a[2])\n",
    "\n",
    "arithmetic_operation(\"12 + 12\")"
   ],
   "outputs": [
    {
     "output_type": "execute_result",
     "data": {
      "text/plain": [
       "24"
      ]
     },
     "metadata": {},
     "execution_count": 3
    }
   ],
   "metadata": {}
  },
  {
   "cell_type": "markdown",
   "source": [
    "## ans 2\n"
   ],
   "metadata": {}
  },
  {
   "cell_type": "code",
   "execution_count": 2,
   "source": [
    "def perimeter(a):\n",
    "    return ((((a[0][0])-(a[1][0]))**2 +((a[0][1])-(a[1][1]))**2)**(0.5)+(((a[0][0])-(a[2][0]))**2 +((a[0][1])-(a[2][1]))**2)**(0.5)+(((a[1][0])-(a[2][0]))**2 +((a[1][1])-(a[2][1]))**2)**(0.5))\n",
    "    \n",
    "perimeter( [ [15, 7], [5, 22], [11, 1] ] )"
   ],
   "outputs": [
    {
     "output_type": "execute_result",
     "data": {
      "text/plain": [
       "47.07918859608948"
      ]
     },
     "metadata": {},
     "execution_count": 2
    }
   ],
   "metadata": {}
  },
  {
   "cell_type": "markdown",
   "source": [
    "## ans 3"
   ],
   "metadata": {}
  },
  {
   "cell_type": "code",
   "execution_count": 4,
   "source": [
    "def tallest_skyscraper(a):\n",
    "    rl=len(a[0])\n",
    "    cl=len(a)\n",
    "    ml=0\n",
    "    for i in range(0,cl):\n",
    "        l=0\n",
    "        for j in range(0,rl):\n",
    "            l=a[j][i]+l\n",
    "        ml=max(ml,l)\n",
    "    return ml   \n",
    "\n",
    "tallest_skyscraper([\n",
    "[0, 1, 0, 0],\n",
    "[0, 1, 0, 0],\n",
    "[0, 1, 1, 0],\n",
    "[1, 1, 1, 1]\n",
    "])"
   ],
   "outputs": [
    {
     "output_type": "execute_result",
     "data": {
      "text/plain": [
       "4"
      ]
     },
     "metadata": {},
     "execution_count": 4
    }
   ],
   "metadata": {}
  },
  {
   "cell_type": "markdown",
   "source": [
    "## ans 4\n"
   ],
   "metadata": {}
  },
  {
   "cell_type": "code",
   "execution_count": null,
   "source": [
    "def bonus(a):\n",
    "    a=sorted(a)\n",
    "    ans=set([])\n",
    "    prev=a[0]\n",
    "   \n",
    "    for i in range(0, len(a)-1): \n",
    "        if a[i] == a[i + 1]:\n",
    "            ans.add(a[i]+\"s\")\n",
    "          \n",
    "            if i>0:\n",
    "                prev=a[i-1]\n",
    "        else:\n",
    "            if i>0:\n",
    "                prev=a[i-1]\n",
    "            if a[i]!=prev:\n",
    "                ans.add(a[i])\n",
    "              \n",
    "    ans.add(a[len(a)-1])\n",
    "    return ans"
   ],
   "outputs": [],
   "metadata": {}
  },
  {
   "cell_type": "markdown",
   "source": [
    "## ans 5"
   ],
   "metadata": {}
  },
  {
   "cell_type": "code",
   "execution_count": 35,
   "source": [
    "import math\n",
    "def is_disarium(a):\n",
    "    s=str(a)\n",
    "    n=int(math.log10(a))+1\n",
    "    ans=0\n",
    "    for i in range(1,n+1): \n",
    "        ans+=(int(s[i-1])**i)\n",
    "    return ans==a\n",
    "\n",
    "is_disarium(544)"
   ],
   "outputs": [
    {
     "output_type": "execute_result",
     "data": {
      "text/plain": [
       "False"
      ]
     },
     "metadata": {},
     "execution_count": 35
    }
   ],
   "metadata": {}
  }
 ],
 "metadata": {
  "orig_nbformat": 4,
  "language_info": {
   "name": "python",
   "version": "3.8.8",
   "mimetype": "text/x-python",
   "codemirror_mode": {
    "name": "ipython",
    "version": 3
   },
   "pygments_lexer": "ipython3",
   "nbconvert_exporter": "python",
   "file_extension": ".py"
  },
  "kernelspec": {
   "name": "python3",
   "display_name": "Python 3.8.8 64-bit ('base': conda)"
  },
  "interpreter": {
   "hash": "286e774b504df13e04a7d8e77e6d4af77665f84c20482e9e6db1a1f534c37820"
  }
 },
 "nbformat": 4,
 "nbformat_minor": 2
}