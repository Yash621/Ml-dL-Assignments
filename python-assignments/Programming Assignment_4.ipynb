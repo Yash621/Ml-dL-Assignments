{
 "cells": [
  {
   "cell_type": "markdown",
   "source": [
    "## ans 1"
   ],
   "metadata": {}
  },
  {
   "cell_type": "code",
   "execution_count": 7,
   "source": [
    "def fastFib(num):\n",
    "    a=0\n",
    "    b=1\n",
    "    c=0\n",
    "    for i in range(2,num+1):\n",
    "        c=a+b\n",
    "        l=b\n",
    "        b=c\n",
    "        a=l\n",
    "    return c\n",
    "fastFib(10)"
   ],
   "outputs": [
    {
     "output_type": "execute_result",
     "data": {
      "text/plain": [
       "55"
      ]
     },
     "metadata": {},
     "execution_count": 7
    }
   ],
   "metadata": {}
  },
  {
   "cell_type": "markdown",
   "source": [
    "## ans 2"
   ],
   "metadata": {}
  },
  {
   "cell_type": "code",
   "execution_count": 13,
   "source": [
    "def convert_to_hex(s):\n",
    "    ans=\"\"\n",
    "    for i in s:\n",
    "        x=hex(ord(i))[2:5]\n",
    "        ans+=(x+\" \")\n",
    "    return ans\n",
    "\n",
    "convert_to_hex(\"hello world\")"
   ],
   "outputs": [
    {
     "output_type": "execute_result",
     "data": {
      "text/plain": [
       "'68 65 6c 6c 6f 20 77 6f 72 6c 64 '"
      ]
     },
     "metadata": {},
     "execution_count": 13
    }
   ],
   "metadata": {}
  },
  {
   "cell_type": "markdown",
   "source": [
    "## ans 3"
   ],
   "metadata": {}
  },
  {
   "cell_type": "code",
   "execution_count": 19,
   "source": [
    "def uncensor(s,x):\n",
    "    a=0\n",
    "    ans=\"\"\n",
    "    for i in range(0,len(s)):\n",
    "        if s[i]==\"*\":\n",
    "            ans+=x[a]\n",
    "            a=a+1\n",
    "        else:\n",
    "            ans+=s[i]\n",
    "    return ans\n",
    "\n",
    "uncensor(\"Wh*r* d*d my v*w*ls g*?\", \"eeioeo\")\n"
   ],
   "outputs": [
    {
     "output_type": "execute_result",
     "data": {
      "text/plain": [
       "'Where did my vowels go?'"
      ]
     },
     "metadata": {},
     "execution_count": 19
    }
   ],
   "metadata": {}
  },
  {
   "cell_type": "markdown",
   "source": [
    "## ans 4"
   ],
   "metadata": {}
  },
  {
   "cell_type": "code",
   "execution_count": 20,
   "source": [
    "def get_domain(ip_address):\n",
    "  import socket\n",
    "  result=socket.gethostbyaddr(ip_address)\n",
    "  return list(result)[0]\n",
    "\n",
    "get_domain(\"8.8.8.8\")"
   ],
   "outputs": [
    {
     "output_type": "execute_result",
     "data": {
      "text/plain": [
       "'dns.google'"
      ]
     },
     "metadata": {},
     "execution_count": 20
    }
   ],
   "metadata": {}
  },
  {
   "cell_type": "markdown",
   "source": [
    "## ans 5"
   ],
   "metadata": {}
  },
  {
   "cell_type": "code",
   "execution_count": 1,
   "source": [
    "def fact(a):\n",
    "    ans=1\n",
    "    for i in range(1,a+1):\n",
    "        ans*=i\n",
    "    return ans\n",
    "def fact_of_fact(a):\n",
    "    x=1\n",
    "    for i in range(1,a+1):\n",
    "        x*=fact(i)\n",
    "    return x\n",
    "\n",
    "fact_of_fact(4)"
   ],
   "outputs": [
    {
     "output_type": "execute_result",
     "data": {
      "text/plain": [
       "288"
      ]
     },
     "metadata": {},
     "execution_count": 1
    }
   ],
   "metadata": {}
  }
 ],
 "metadata": {
  "orig_nbformat": 4,
  "language_info": {
   "name": "python",
   "version": "3.6.13",
   "mimetype": "text/x-python",
   "codemirror_mode": {
    "name": "ipython",
    "version": 3
   },
   "pygments_lexer": "ipython3",
   "nbconvert_exporter": "python",
   "file_extension": ".py"
  },
  "kernelspec": {
   "name": "python3",
   "display_name": "Python 3.6.13 64-bit ('envname': conda)"
  },
  "interpreter": {
   "hash": "8665e1e22109b82811cab83a5838937839acf85821929ac77f05bd1d58259294"
  }
 },
 "nbformat": 4,
 "nbformat_minor": 2
}