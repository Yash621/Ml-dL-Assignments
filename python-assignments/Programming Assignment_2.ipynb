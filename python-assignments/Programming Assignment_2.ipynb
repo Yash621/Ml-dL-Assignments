{
 "cells": [
  {
   "cell_type": "markdown",
   "source": [
    "## ans 1"
   ],
   "metadata": {}
  },
  {
   "cell_type": "code",
   "execution_count": 2,
   "source": [
    "def pentagonal(a):\n",
    "    ans=1\n",
    "    for i in range(2,a+1):\n",
    "        ans+=((i-1)*5)\n",
    "    return ans\n",
    "  \n",
    "pentagonal(8)"
   ],
   "outputs": [
    {
     "output_type": "execute_result",
     "data": {
      "text/plain": [
       "141"
      ]
     },
     "metadata": {},
     "execution_count": 2
    }
   ],
   "metadata": {}
  },
  {
   "cell_type": "markdown",
   "source": [
    "## ans 2"
   ],
   "metadata": {}
  },
  {
   "cell_type": "code",
   "execution_count": 29,
   "source": [
    "def encrypt(a):\n",
    "    d={\"a\":\"0\",\"e\":\"1\",\"i\":\"2\",\"o\":\"2\",\"u\":\"3\"}\n",
    "    s=a[::-1]\n",
    "    ans=\"\"\n",
    "    for i in s:\n",
    "        if i in d.keys():\n",
    "           ans+=d[i]\n",
    "        else:\n",
    "            ans+=i\n",
    "    return ans+\"aca\"               \n",
    "\n",
    "encrypt(\"banana\")\n",
    "\n"
   ],
   "outputs": [
    {
     "output_type": "execute_result",
     "data": {
      "text/plain": [
       "'0n0n0baca'"
      ]
     },
     "metadata": {},
     "execution_count": 29
    }
   ],
   "metadata": {}
  },
  {
   "cell_type": "markdown",
   "source": [
    "## ans 3"
   ],
   "metadata": {}
  },
  {
   "cell_type": "code",
   "execution_count": 32,
   "source": [
    "import datetime\n",
    "\n",
    "def has_friday_13(a,b):\n",
    "    if(datetime.date(b,a,13).weekday()==4):\n",
    "        return True\n",
    "    else:\n",
    "        return False\n",
    "\n",
    "has_friday_13(1,1985)\n"
   ],
   "outputs": [
    {
     "output_type": "execute_result",
     "data": {
      "text/plain": [
       "False"
      ]
     },
     "metadata": {},
     "execution_count": 32
    }
   ],
   "metadata": {}
  },
  {
   "cell_type": "markdown",
   "source": [
    "## ans 4"
   ],
   "metadata": {}
  },
  {
   "cell_type": "code",
   "execution_count": 40,
   "source": [
    "\n",
    "import re\n",
    "lst = [\"bad cookie\", \"good cookie\", \"bad cookie\", \"good cookie\", \"good cookie\"]\n",
    "pattern = \"good\"\n",
    "len(re.findall(pattern, \",\".join(lst)))\n",
    "\n",
    "\n"
   ],
   "outputs": [
    {
     "output_type": "execute_result",
     "data": {
      "text/plain": [
       "3"
      ]
     },
     "metadata": {},
     "execution_count": 40
    }
   ],
   "metadata": {}
  },
  {
   "cell_type": "markdown",
   "source": [
    "## ans 5"
   ],
   "metadata": {}
  },
  {
   "cell_type": "code",
   "execution_count": 56,
   "source": [
    "def pluralize(a):\n",
    "    a=sorted(a)\n",
    "    ans=set([])\n",
    "    prev=a[0]\n",
    "   \n",
    "    for i in range(0, len(a)-1): \n",
    "        if a[i] == a[i + 1]:\n",
    "            ans.add(a[i]+\"s\")\n",
    "          \n",
    "            if i>0:\n",
    "                prev=a[i-1]\n",
    "        else:\n",
    "            if i>0:\n",
    "                prev=a[i-1]\n",
    "            if a[i]!=prev:\n",
    "                ans.add(a[i])\n",
    "              \n",
    "    ans.add(a[len(a)-1])\n",
    "    return ans\n",
    "\n",
    "pluralize([\"cow\",\"pig\", \"cow\",\"cow\"])\n"
   ],
   "outputs": [
    {
     "output_type": "execute_result",
     "data": {
      "text/plain": [
       "{'cows', 'pig'}"
      ]
     },
     "metadata": {},
     "execution_count": 56
    }
   ],
   "metadata": {}
  }
 ],
 "metadata": {
  "orig_nbformat": 4,
  "language_info": {
   "name": "python",
   "version": "3.8.8",
   "mimetype": "text/x-python",
   "codemirror_mode": {
    "name": "ipython",
    "version": 3
   },
   "pygments_lexer": "ipython3",
   "nbconvert_exporter": "python",
   "file_extension": ".py"
  },
  "kernelspec": {
   "name": "python3",
   "display_name": "Python 3.8.8 64-bit ('base': conda)"
  },
  "interpreter": {
   "hash": "286e774b504df13e04a7d8e77e6d4af77665f84c20482e9e6db1a1f534c37820"
  }
 },
 "nbformat": 4,
 "nbformat_minor": 2
}