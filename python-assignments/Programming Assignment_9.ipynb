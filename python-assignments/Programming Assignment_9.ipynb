{
 "cells": [
  {
   "cell_type": "markdown",
   "metadata": {},
   "source": [
    "## ans 1"
   ]
  },
  {
   "cell_type": "code",
   "execution_count": null,
   "metadata": {},
   "outputs": [],
   "source": [
    "def playback_duration(a,b):\n",
    "    \n",
    "\n",
    "\n",
    "\n"
   ]
  },
  {
   "cell_type": "markdown",
   "metadata": {},
   "source": [
    "## ans 2"
   ]
  },
  {
   "cell_type": "code",
   "execution_count": null,
   "metadata": {},
   "outputs": [],
   "source": []
  },
  {
   "cell_type": "markdown",
   "metadata": {},
   "source": [
    "## ans 3"
   ]
  },
  {
   "cell_type": "code",
   "execution_count": null,
   "metadata": {},
   "outputs": [],
   "source": []
  },
  {
   "cell_type": "markdown",
   "metadata": {},
   "source": [
    "## ans 4"
   ]
  },
  {
   "cell_type": "code",
   "execution_count": 19,
   "metadata": {},
   "outputs": [
    {
     "data": {
      "text/plain": [
       "3"
      ]
     },
     "execution_count": 19,
     "metadata": {},
     "output_type": "execute_result"
    }
   ],
   "source": [
    "import math\n",
    "\n",
    "def sock_merchant(a):\n",
    "    x=sorted(a)\n",
    "    m=[0]\n",
    "    ans=0\n",
    "    for i in range(0,len(x)-1):\n",
    "        if x[i]!=x[i+1]:        \n",
    "           m.append(i+1)\n",
    "    for i in range(1,len(m)):\n",
    "        ans=ans+(math.floor((m[i]-m[i-1])/2))\n",
    "    return ans\n",
    "\n",
    "sock_merchant([10, 20, 20, 10, 10, 30, 50, 10, 20])"
   ]
  },
  {
   "cell_type": "markdown",
   "metadata": {},
   "source": [
    "## ans 5"
   ]
  },
  {
   "cell_type": "code",
   "execution_count": 17,
   "metadata": {},
   "outputs": [
    {
     "data": {
      "text/plain": [
       "'-33'"
      ]
     },
     "execution_count": 17,
     "metadata": {},
     "output_type": "execute_result"
    }
   ],
   "source": [
    " def negative_sum(a):\n",
    "    l=False\n",
    "    x=False\n",
    "    s=0\n",
    "    z=[]\n",
    "    for i in range(0,len(a)):       \n",
    "       if a[i]==\"-\":\n",
    "          l=True\n",
    "          continue\n",
    "       if l==True:\n",
    "          s=i\n",
    "          x=True\n",
    "          l=False\n",
    "          continue\n",
    "       if x==True and (a[i].isnumeric()==False or i==len(a)-1):\n",
    "          if i==len(a)-1:\n",
    "              z.append(int(a[s:i+1]))\n",
    "          else:\n",
    "              z.append(int(a[s:i]))\n",
    "          x=False       \n",
    "    return \"-\"+str(sum(z))\n",
    "\n",
    "negative_sum(\"22 13%14&-11 -22 13 12\")"
   ]
  }
 ],
 "metadata": {
  "interpreter": {
   "hash": "24608bd683b051a8a00de506f187d3296bd49eaad6488801ac20452f8ab7f35a"
  },
  "kernelspec": {
   "display_name": "Python 3.8.8 64-bit ('base': conda)",
   "name": "python3"
  },
  "language_info": {
   "codemirror_mode": {
    "name": "ipython",
    "version": 3
   },
   "file_extension": ".py",
   "mimetype": "text/x-python",
   "name": "python",
   "nbconvert_exporter": "python",
   "pygments_lexer": "ipython3",
   "version": "3.8.8"
  },
  "orig_nbformat": 4
 },
 "nbformat": 4,
 "nbformat_minor": 2
}
