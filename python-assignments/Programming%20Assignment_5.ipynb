{
 "cells": [
  {
   "cell_type": "markdown",
   "source": [
    "## ans 1"
   ],
   "metadata": {}
  },
  {
   "cell_type": "code",
   "execution_count": null,
   "source": [
    "def func(a):\n",
    "    if(a%2==0){\n",
    "        return 8\n",
    "    }\n",
    "    return 2\n",
    "\n"
   ],
   "outputs": [],
   "metadata": {}
  },
  {
   "cell_type": "markdown",
   "source": [
    "## ans 2"
   ],
   "metadata": {}
  },
  {
   "cell_type": "code",
   "execution_count": 10,
   "source": [
    "def majority_vote(arr):\n",
    "    arr=sorted(arr)\n",
    "    ans=0\n",
    "    f=0\n",
    "    m=arr[0]\n",
    "    prev=arr[0]\n",
    "    for i in range(0,len(arr)):\n",
    "        if arr[i]==prev:\n",
    "            ans=ans+1\n",
    "            prev=arr[i]\n",
    "        else:\n",
    "            if(f<ans):\n",
    "               m=prev\n",
    "               f=ans\n",
    "            ans=1\n",
    "            prev=arr[i]            \n",
    "    return m\n",
    "\n",
    "majority_vote([\"A\", \"A\", \"A\", \"B\", \"C\", \"A\", \"B\", \"B\", \"B\", \"B\", \"B\", \"B\"])\n"
   ],
   "outputs": [
    {
     "output_type": "execute_result",
     "data": {
      "text/plain": [
       "'B'"
      ]
     },
     "metadata": {},
     "execution_count": 10
    }
   ],
   "metadata": {}
  },
  {
   "cell_type": "markdown",
   "source": [
    "## ans 3"
   ],
   "metadata": {}
  },
  {
   "cell_type": "code",
   "execution_count": 25,
   "source": [
    "def censor_string(s,arr,sy):\n",
    "    for i in arr:\n",
    "        s=s.replace(i,sy*(len(i)+2)) \n",
    "    return s      \n",
    "\n",
    "censor_string(\"Today cow jumped over the moon\",[\"cow\", \"over\"],\"*\")"
   ],
   "outputs": [
    {
     "output_type": "execute_result",
     "data": {
      "text/plain": [
       "'Today ***** jumped ****** the moon'"
      ]
     },
     "metadata": {},
     "execution_count": 25
    }
   ],
   "metadata": {}
  },
  {
   "cell_type": "markdown",
   "source": [
    "## ans 4"
   ],
   "metadata": {}
  },
  {
   "cell_type": "code",
   "execution_count": 30,
   "source": [
    "def is_polydivisible(a):\n",
    "    for i in range(0,4):  \n",
    "        if int(str(a)[0:2])%2==0 and int(str(a)[0:3])%3==0 and int(str(a)[0:4])%4==0:\n",
    "            return True\n",
    "\n",
    "is_polydivisible(1232)"
   ],
   "outputs": [
    {
     "output_type": "execute_result",
     "data": {
      "text/plain": [
       "True"
      ]
     },
     "metadata": {},
     "execution_count": 30
    }
   ],
   "metadata": {}
  },
  {
   "cell_type": "markdown",
   "source": [
    "## ans 5"
   ],
   "metadata": {}
  },
  {
   "cell_type": "code",
   "execution_count": 38,
   "source": [
    "def prime(a):\n",
    "    for i in range(2,a):\n",
    "        if a%i==0:\n",
    "            return True\n",
    "    return False\n",
    "\n",
    "def sum_primes(a):\n",
    "    sum=0\n",
    "    for i in a:\n",
    "        if prime(i)==False:\n",
    "           sum=sum+i\n",
    "    return sum-1\n",
    "\n",
    "sum_primes([1, 2, 3, 4, 5, 6, 7, 8, 9, 10])"
   ],
   "outputs": [
    {
     "output_type": "execute_result",
     "data": {
      "text/plain": [
       "17"
      ]
     },
     "metadata": {},
     "execution_count": 38
    }
   ],
   "metadata": {}
  }
 ],
 "metadata": {
  "orig_nbformat": 4,
  "language_info": {
   "name": "python",
   "version": "3.8.8",
   "mimetype": "text/x-python",
   "codemirror_mode": {
    "name": "ipython",
    "version": 3
   },
   "pygments_lexer": "ipython3",
   "nbconvert_exporter": "python",
   "file_extension": ".py"
  },
  "kernelspec": {
   "name": "python3",
   "display_name": "Python 3.8.8 64-bit ('base': conda)"
  },
  "interpreter": {
   "hash": "286e774b504df13e04a7d8e77e6d4af77665f84c20482e9e6db1a1f534c37820"
  }
 },
 "nbformat": 4,
 "nbformat_minor": 2
}