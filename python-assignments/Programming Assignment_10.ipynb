{
 "cells": [
  {
   "cell_type": "markdown",
   "metadata": {},
   "source": [
    "## ans 1"
   ]
  },
  {
   "cell_type": "code",
   "execution_count": 2,
   "metadata": {},
   "outputs": [
    {
     "name": "stdout",
     "output_type": "stream",
     "text": [
      "[['#', '#', '#', '#'], ['#', '#', '#', '#'], ['#', '#', '#', '#'], ['#', '#', '#', '#'], ['#', '#', '#', '#']]\n"
     ]
    },
    {
     "data": {
      "text/plain": [
       "'Frame is 4 characters and wide and 5 characters tall.'"
      ]
     },
     "execution_count": 2,
     "metadata": {},
     "output_type": "execute_result"
    }
   ],
   "source": [
    "def get_frame(a,b,s):\n",
    "    d=[]\n",
    "    for i in range(0,b):\n",
    "        x=[]\n",
    "        for j in range(0,a):     \n",
    "            x.append(s)\n",
    "        d.append(x)\n",
    "    print(d)\n",
    "    return f\"Frame is {a} characters and wide and {b} characters tall.\"    \n",
    "\n",
    "\n",
    "\n",
    "get_frame(4, 5, \"#\")\n",
    "\n"
   ]
  },
  {
   "cell_type": "markdown",
   "metadata": {},
   "source": [
    "## ans 2"
   ]
  },
  {
   "cell_type": "code",
   "execution_count": 8,
   "metadata": {},
   "outputs": [
    {
     "data": {
      "text/plain": [
       "False"
      ]
     },
     "execution_count": 8,
     "metadata": {},
     "output_type": "execute_result"
    }
   ],
   "source": [
    "def boolean_and(a):\n",
    "    eval=True\n",
    "    for i in range(0,len(a)): \n",
    "        eval=eval & a[i]\n",
    "    return eval\n",
    "def boolean_or(a):\n",
    "    eval=True\n",
    "    for i in range(0,len(a)): \n",
    "        eval=eval | a[i]\n",
    "    return eval\n",
    "def boolean_xor(a):\n",
    "    eval=False\n",
    "    for i in range(0,len(a)): \n",
    "        eval=eval ^ a[i]\n",
    "    return eval\n",
    "    \n",
    "boolean_xor([True, True, False, False])\n",
    "boolean_or([True, True, False, False])\n",
    "boolean_and([True, True, False, True])"
   ]
  },
  {
   "cell_type": "markdown",
   "metadata": {},
   "source": [
    "## ans 3"
   ]
  },
  {
   "cell_type": "code",
   "execution_count": 10,
   "metadata": {},
   "outputs": [
    {
     "data": {
      "text/plain": [
       "['#####', '#####', '#####', '#####', '#####']"
      ]
     },
     "execution_count": 10,
     "metadata": {},
     "output_type": "execute_result"
    }
   ],
   "source": [
    "def make_box(a):\n",
    "    x=[]\n",
    "    for i in range(0,a):\n",
    "       z=''\n",
    "       for j in range(0,(a)):\n",
    "           z+=\"#\"\n",
    "       x.append(z)\n",
    "    return x\n",
    "\n",
    "make_box(5)\n"
   ]
  },
  {
   "cell_type": "markdown",
   "metadata": {},
   "source": [
    "## ans 4"
   ]
  },
  {
   "cell_type": "code",
   "execution_count": 19,
   "metadata": {},
   "outputs": [
    {
     "data": {
      "text/plain": [
       "['apple', 'keeps', 'doctor', 'away.']"
      ]
     },
     "execution_count": 19,
     "metadata": {},
     "output_type": "execute_result"
    }
   ],
   "source": [
    "def no_duplicate_letters(a):\n",
    "    z=[]\n",
    "    x=a.split(\" \")\n",
    "    for i in range(0,len(x)):\n",
    "      for j in range(0,len(x[i])-1):  \n",
    "          q=sorted(x[i])\n",
    "          if q[j]==q[j+1]:\n",
    "             z.append(i)\n",
    "             break          \n",
    "    ans=[]\n",
    "    for i in z:  \n",
    "        ans.append(x[i])\n",
    "    return ans\n",
    "no_duplicate_letters(\"An apple a day keeps the doctor away.\")"
   ]
  },
  {
   "cell_type": "markdown",
   "metadata": {},
   "source": [
    "## ans 5"
   ]
  },
  {
   "cell_type": "code",
   "execution_count": 20,
   "metadata": {},
   "outputs": [
    {
     "name": "stdout",
     "output_type": "stream",
     "text": [
      "['yes', 'yes']\n"
     ]
    }
   ],
   "source": [
    "import re\n",
    "\n",
    "txt = \"Texas = no, California = yes, Florida = yes, Michigan = no\"\n",
    "print(re.findall(\"yes\",txt))\n",
    "\n"
   ]
  }
 ],
 "metadata": {
  "interpreter": {
   "hash": "24608bd683b051a8a00de506f187d3296bd49eaad6488801ac20452f8ab7f35a"
  },
  "kernelspec": {
   "display_name": "Python 3.8.8 64-bit ('base': conda)",
   "name": "python3"
  },
  "language_info": {
   "codemirror_mode": {
    "name": "ipython",
    "version": 3
   },
   "file_extension": ".py",
   "mimetype": "text/x-python",
   "name": "python",
   "nbconvert_exporter": "python",
   "pygments_lexer": "ipython3",
   "version": "3.8.8"
  },
  "orig_nbformat": 4
 },
 "nbformat": 4,
 "nbformat_minor": 2
}
