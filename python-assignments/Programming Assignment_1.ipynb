{
 "cells": [
  {
   "cell_type": "markdown",
   "source": [
    "## ans 1"
   ],
   "metadata": {}
  },
  {
   "cell_type": "code",
   "execution_count": null,
   "source": [
    "def check_score(arr):\n",
    "    ans=[]    \n",
    "    for j in arr:\n",
    "     a=j\n",
    "     for i in a:\n",
    "        if(i==\"#\"):\n",
    "            ans.append(5)\n",
    "        elif(i==\"O\"):\n",
    "            ans.append(3)\n",
    "        elif(i==\"X\"):\n",
    "            ans.append(1)\n",
    "        elif(i==\"!\"):\n",
    "            ans.append(-1)\n",
    "        elif(i==\"!!\"):\n",
    "            ans.append(-3)\n",
    "        else:\n",
    "            ans.append(-5)\n",
    "    x=0\n",
    "    for i in ans:\n",
    "       x+=i\n",
    "    \n",
    "    if x<0:\n",
    "        return 0\n",
    "\n",
    "\n",
    "    return x\n",
    "\n",
    "check_score([[\"#\",\"!\"],[\"!!\",\"X\"]])"
   ],
   "outputs": [],
   "metadata": {}
  },
  {
   "cell_type": "markdown",
   "source": [
    "## ans 2"
   ],
   "metadata": {}
  },
  {
   "cell_type": "code",
   "execution_count": 9,
   "source": [
    "\n",
    "def combinations(*argv):\n",
    "    ans=1\n",
    "    for i in argv:\n",
    "        ans*=i\n",
    "    return ans\n",
    "\n",
    "\n",
    "combinations(2, 3)"
   ],
   "outputs": [
    {
     "output_type": "execute_result",
     "data": {
      "text/plain": [
       "6"
      ]
     },
     "metadata": {},
     "execution_count": 9
    }
   ],
   "metadata": {}
  },
  {
   "cell_type": "markdown",
   "source": [
    "## ans 3"
   ],
   "metadata": {}
  },
  {
   "cell_type": "code",
   "execution_count": 14,
   "source": [
    "def encode_morse(s):\n",
    "    MORSE_CODE_DICT = { 'A':'.-', 'B':'-...',\n",
    "                    'C':'-.-.', 'D':'-..', 'E':'.',\n",
    "                    'F':'..-.', 'G':'--.', 'H':'....',\n",
    "                    'I':'..', 'J':'.---', 'K':'-.-',\n",
    "                    'L':'.-..', 'M':'--', 'N':'-.',\n",
    "                    'O':'---', 'P':'.--.', 'Q':'--.-',\n",
    "                    'R':'.-.', 'S':'...', 'T':'-',\n",
    "                    'U':'..-', 'V':'...-', 'W':'.--',\n",
    "                    'X':'-..-', 'Y':'-.--', 'Z':'--..',\n",
    "                    '1':'.----', '2':'..---', '3':'...--',\n",
    "                    '4':'....-', '5':'.....', '6':'-....',\n",
    "                    '7':'--...', '8':'---..', '9':'----.',\n",
    "                    '0':'-----', ', ':'--..--', '.':'.-.-.-',\n",
    "                    '?':'..--..', '/':'-..-.', '-':'-....-',\n",
    "                    '(':'-.--.', ')':'-.--.-'}\n",
    "    ans=\"\"\n",
    "    for i in s:\n",
    "        if i==\" \":\n",
    "            ans+=\" \"\n",
    "            continue\n",
    "        ans+=MORSE_CODE_DICT[i]\n",
    "    return ans\n",
    "\n",
    "encode_morse(\"HELP ME\")\n"
   ],
   "outputs": [
    {
     "output_type": "execute_result",
     "data": {
      "text/plain": [
       "'......-...--. --.'"
      ]
     },
     "metadata": {},
     "execution_count": 14
    }
   ],
   "metadata": {}
  },
  {
   "cell_type": "markdown",
   "source": [
    "## ans 4"
   ],
   "metadata": {}
  },
  {
   "cell_type": "code",
   "execution_count": 17,
   "source": [
    "def prime(a):\n",
    "    for i in range(2,a):\n",
    "        if a%i==0:\n",
    "            return True\n",
    "    return False\n",
    "\n",
    "prime(7)"
   ],
   "outputs": [
    {
     "output_type": "execute_result",
     "data": {
      "text/plain": [
       "False"
      ]
     },
     "metadata": {},
     "execution_count": 17
    }
   ],
   "metadata": {}
  },
  {
   "cell_type": "markdown",
   "source": [
    "## ans 5"
   ],
   "metadata": {}
  },
  {
   "cell_type": "code",
   "execution_count": 19,
   "source": [
    "def to_boolean_list(s):\n",
    "    ans=[]\n",
    "    for i in s:\n",
    "        if ord(i)%2!=0:\n",
    "           ans.append(True)\n",
    "        else:\n",
    "            ans.append(False)\n",
    "    return ans\n",
    "\n",
    "to_boolean_list(\"loves\")\n"
   ],
   "outputs": [
    {
     "output_type": "execute_result",
     "data": {
      "text/plain": [
       "[False, True, False, True, True]"
      ]
     },
     "metadata": {},
     "execution_count": 19
    }
   ],
   "metadata": {}
  }
 ],
 "metadata": {
  "orig_nbformat": 4,
  "language_info": {
   "name": "python",
   "version": "3.8.8",
   "mimetype": "text/x-python",
   "codemirror_mode": {
    "name": "ipython",
    "version": 3
   },
   "pygments_lexer": "ipython3",
   "nbconvert_exporter": "python",
   "file_extension": ".py"
  },
  "kernelspec": {
   "name": "python3",
   "display_name": "Python 3.8.8 64-bit ('base': conda)"
  },
  "interpreter": {
   "hash": "286e774b504df13e04a7d8e77e6d4af77665f84c20482e9e6db1a1f534c37820"
  }
 },
 "nbformat": 4,
 "nbformat_minor": 2
}