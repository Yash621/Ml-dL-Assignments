{
 "cells": [
  {
   "cell_type": "markdown",
   "source": [
    "## ans 1"
   ],
   "metadata": {}
  },
  {
   "cell_type": "code",
   "execution_count": 6,
   "source": [
    "def vowel_links(a):\n",
    "    z=a.split(\" \")\n",
    "    v=[\"a\",\"e\",\"i\",\"o\",\"u\"]\n",
    "    for i in range(0,len(z)-1):\n",
    "        if z[i][len(z[i])-1] in v and z[i+1][0] in v:\n",
    "            return True\n",
    "    return False           \n",
    "\n",
    "vowel_links(\"a sudden applause\")"
   ],
   "outputs": [
    {
     "output_type": "execute_result",
     "data": {
      "text/plain": [
       "False"
      ]
     },
     "metadata": {},
     "execution_count": 6
    }
   ],
   "metadata": {}
  },
  {
   "cell_type": "markdown",
   "source": [
    "## ans 2"
   ],
   "metadata": {}
  },
  {
   "cell_type": "code",
   "execution_count": 9,
   "source": [
    "def first_before_second(a,b,c):        \n",
    "    p=False\n",
    "    for i in a:\n",
    "        if i==c:\n",
    "            p=True\n",
    "        if p==True and i==b:\n",
    "           return False\n",
    "    return True\n",
    "\n",
    "first_before_second(\"happy birthday\", \"a\", \"y\")"
   ],
   "outputs": [
    {
     "output_type": "execute_result",
     "data": {
      "text/plain": [
       "False"
      ]
     },
     "metadata": {},
     "execution_count": 9
    }
   ],
   "metadata": {}
  },
  {
   "cell_type": "markdown",
   "source": [
    "## ans 3"
   ],
   "metadata": {}
  },
  {
   "cell_type": "code",
   "execution_count": 13,
   "source": [
    "def char_at_pos(a,b):\n",
    "    x=\"\"\n",
    "    for i in range(0,len(a)):\n",
    "        if b==\"even\" and (i+1)%2==0:\n",
    "          x=x+a[i]\n",
    "        if b==\"odd\" and (i+1)%2!=0:\n",
    "          x=x+a[i]                \n",
    "    return x\n",
    "\n",
    "char_at_pos(\"EDABIT\", \"odd\")\n"
   ],
   "outputs": [
    {
     "output_type": "execute_result",
     "data": {
      "text/plain": [
       "'EAI'"
      ]
     },
     "metadata": {},
     "execution_count": 13
    }
   ],
   "metadata": {}
  },
  {
   "cell_type": "markdown",
   "source": [
    "## ans 4"
   ],
   "metadata": {}
  },
  {
   "cell_type": "code",
   "execution_count": null,
   "source": [
    "def gcd(a):\n",
    "    \n",
    "\n",
    "\n",
    "\n",
    "gcd([10,20,30])"
   ],
   "outputs": [],
   "metadata": {}
  },
  {
   "cell_type": "markdown",
   "source": [
    "## ans 5"
   ],
   "metadata": {}
  },
  {
   "cell_type": "code",
   "execution_count": null,
   "source": [],
   "outputs": [],
   "metadata": {}
  }
 ],
 "metadata": {
  "orig_nbformat": 4,
  "language_info": {
   "name": "python",
   "version": "3.8.8",
   "mimetype": "text/x-python",
   "codemirror_mode": {
    "name": "ipython",
    "version": 3
   },
   "pygments_lexer": "ipython3",
   "nbconvert_exporter": "python",
   "file_extension": ".py"
  },
  "kernelspec": {
   "name": "python3",
   "display_name": "Python 3.8.8 64-bit ('base': conda)"
  },
  "interpreter": {
   "hash": "286e774b504df13e04a7d8e77e6d4af77665f84c20482e9e6db1a1f534c37820"
  }
 },
 "nbformat": 4,
 "nbformat_minor": 2
}