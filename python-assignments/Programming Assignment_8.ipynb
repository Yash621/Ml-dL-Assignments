{
 "cells": [
  {
   "cell_type": "markdown",
   "metadata": {},
   "source": [
    "## ans 1"
   ]
  },
  {
   "cell_type": "code",
   "execution_count": 6,
   "metadata": {},
   "outputs": [
    {
     "data": {
      "text/plain": [
       "False"
      ]
     },
     "execution_count": 6,
     "metadata": {},
     "output_type": "execute_result"
    }
   ],
   "source": [
    "def vowel_links(a):\n",
    "    z=a.split(\" \")\n",
    "    v=[\"a\",\"e\",\"i\",\"o\",\"u\"]\n",
    "    for i in range(0,len(z)-1):\n",
    "        if z[i][len(z[i])-1] in v and z[i+1][0] in v:\n",
    "            return True\n",
    "    return False           \n",
    "\n",
    "vowel_links(\"a sudden applause\")"
   ]
  },
  {
   "cell_type": "markdown",
   "metadata": {},
   "source": [
    "## ans 2"
   ]
  },
  {
   "cell_type": "code",
   "execution_count": 9,
   "metadata": {},
   "outputs": [
    {
     "data": {
      "text/plain": [
       "False"
      ]
     },
     "execution_count": 9,
     "metadata": {},
     "output_type": "execute_result"
    }
   ],
   "source": [
    "def first_before_second(a,b,c):        \n",
    "    p=False\n",
    "    for i in a:\n",
    "        if i==c:\n",
    "            p=True\n",
    "        if p==True and i==b:\n",
    "           return False\n",
    "    return True\n",
    "\n",
    "first_before_second(\"happy birthday\", \"a\", \"y\")"
   ]
  },
  {
   "cell_type": "markdown",
   "metadata": {},
   "source": [
    "## ans 3"
   ]
  },
  {
   "cell_type": "code",
   "execution_count": 13,
   "metadata": {},
   "outputs": [
    {
     "data": {
      "text/plain": [
       "'EAI'"
      ]
     },
     "execution_count": 13,
     "metadata": {},
     "output_type": "execute_result"
    }
   ],
   "source": [
    "def char_at_pos(a,b):\n",
    "    x=\"\"\n",
    "    for i in range(0,len(a)):\n",
    "        if b==\"even\" and (i+1)%2==0:\n",
    "          x=x+a[i]\n",
    "        if b==\"odd\" and (i+1)%2!=0:\n",
    "          x=x+a[i]                \n",
    "    return x\n",
    "\n",
    "char_at_pos(\"EDABIT\", \"odd\")\n"
   ]
  },
  {
   "cell_type": "markdown",
   "metadata": {},
   "source": [
    "## ans 4"
   ]
  },
  {
   "cell_type": "code",
   "execution_count": 5,
   "metadata": {},
   "outputs": [
    {
     "data": {
      "text/plain": [
       "64"
      ]
     },
     "execution_count": 5,
     "metadata": {},
     "output_type": "execute_result"
    }
   ],
   "source": [
    "def gcd(a):\n",
    "    m=min(a)\n",
    "    ans=2\n",
    "    for i in range(2,m+1):\n",
    "        z=False\n",
    "        for j in a:\n",
    "           if j%i!=0: \n",
    "              z=True               \n",
    "              break\n",
    "        if z==False:\n",
    "           ans=i \n",
    "    return ans \n",
    "\n",
    "gcd([1024, 192, 2048, 512])"
   ]
  },
  {
   "cell_type": "markdown",
   "metadata": {},
   "source": [
    "## ans 5"
   ]
  },
  {
   "cell_type": "code",
   "execution_count": 18,
   "metadata": {},
   "outputs": [
    {
     "data": {
      "text/plain": [
       "'Decimal and binary.'"
      ]
     },
     "execution_count": 18,
     "metadata": {},
     "output_type": "execute_result"
    }
   ],
   "source": [
    "def DecimalToBinary(num):\n",
    "    a=\"\"\n",
    "    if num > 1:\n",
    "       a=DecimalToBinary(num // 2)\n",
    "    return a+str(num%2)\n",
    "\n",
    "def palindrome_type(num,l):\n",
    "    arr=str(num)\n",
    "    a=0\n",
    "    b=len(arr)-1\n",
    "    ans=\"Decimal and binary.\"\n",
    "    while(a<=b): \n",
    "        if arr[a]!=arr[b]:\n",
    "           if l==True:\n",
    "            return False\n",
    "           else:\n",
    "            res=palindrome_type(DecimalToBinary(num),True)\n",
    "            ans=\"Neither!\"\n",
    "            if res==True:\n",
    "                ans=\"Binary only.\"\n",
    "            break\n",
    "        a=a+1\n",
    "        b=b-1\n",
    "    if l==True:\n",
    "        return True\n",
    "    if ans==\"Decimal and binary.\":\n",
    "        q=palindrome_type(DecimalToBinary(num),True)\n",
    "        if q==False:\n",
    "            ans=\"Decimal only.\"\n",
    "    return ans\n",
    "\n",
    "palindrome_type(313,False)"
   ]
  }
 ],
 "metadata": {
  "interpreter": {
   "hash": "286e774b504df13e04a7d8e77e6d4af77665f84c20482e9e6db1a1f534c37820"
  },
  "kernelspec": {
   "display_name": "Python 3.8.8 64-bit ('base': conda)",
   "name": "python3"
  },
  "language_info": {
   "codemirror_mode": {
    "name": "ipython",
    "version": 3
   },
   "file_extension": ".py",
   "mimetype": "text/x-python",
   "name": "python",
   "nbconvert_exporter": "python",
   "pygments_lexer": "ipython3",
   "version": "3.8.8"
  },
  "orig_nbformat": 4
 },
 "nbformat": 4,
 "nbformat_minor": 2
}
