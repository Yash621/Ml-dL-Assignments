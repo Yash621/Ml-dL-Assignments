{
 "cells": [
  {
   "cell_type": "markdown",
   "source": [
    "## ans 1"
   ],
   "metadata": {}
  },
  {
   "cell_type": "code",
   "execution_count": 8,
   "source": [
    "def find_the_difference(a,s):\n",
    "    x=list(a)\n",
    "    y=list(s)\n",
    "    for i in range(0,len(y)):\n",
    "        if((y[i] in x)==False):\n",
    "             return y[i]\n",
    "    \n",
    "l=find_the_difference(\"abcd\",\"abcde\")\n",
    "print(l)"
   ],
   "outputs": [
    {
     "output_type": "stream",
     "name": "stdout",
     "text": [
      "e\n"
     ]
    }
   ],
   "metadata": {}
  },
  {
   "cell_type": "markdown",
   "source": [
    "## ans 2"
   ],
   "metadata": {}
  },
  {
   "cell_type": "code",
   "execution_count": 23,
   "source": [
    "def count_datatypes(*a):\n",
    "    q={\"int\":0, \"str\":0, \"bool\":0, \"list\":0, \"tuple\":0, \"dictionary\":0}\n",
    "    for i in a:\n",
    "        x=str(type(i)).split(\" \")[1]\n",
    "        q[ x[1:len(x)-2]]=q[x[1:len(x)-2]]+1\n",
    "    return list(q.values())\n",
    "\n",
    "count_datatypes([10, 20], (\"t\", \"Ok\"), 2, 3, 1)\n"
   ],
   "outputs": [
    {
     "output_type": "execute_result",
     "data": {
      "text/plain": [
       "[3, 0, 0, 1, 1, 0]"
      ]
     },
     "metadata": {},
     "execution_count": 23
    }
   ],
   "metadata": {}
  },
  {
   "cell_type": "markdown",
   "source": [
    "## ans 3"
   ],
   "metadata": {}
  },
  {
   "cell_type": "code",
   "execution_count": 27,
   "source": [
    "def fib_str(n,arr):\n",
    "    a=arr[0]\n",
    "    b=arr[1]\n",
    "    c=\"\"\n",
    "    x=[]\n",
    "    x.append(a)\n",
    "    x.append(b)\n",
    "    for i in range(2,n):\n",
    "        c=a+b\n",
    "        x.append(c)\n",
    "        l=b\n",
    "        b=c\n",
    "        a=l\n",
    "    return x \n",
    "\n",
    "fib_str(5, [\"e\", \"a\"])"
   ],
   "outputs": [
    {
     "output_type": "execute_result",
     "data": {
      "text/plain": [
       "['e', 'a', 'ea', 'aea', 'eaaea']"
      ]
     },
     "metadata": {},
     "execution_count": 27
    }
   ],
   "metadata": {}
  },
  {
   "cell_type": "markdown",
   "source": [
    "## ans 4"
   ],
   "metadata": {}
  },
  {
   "cell_type": "code",
   "execution_count": 5,
   "source": [
    "def ones_threes_nines(a):\n",
    "    ans={\"nines\":0,\"threes\":0,\"ones\":0}\n",
    "    ans[\"nines\"]=int(a/9)\n",
    "    ans[\"threes\"]=int((a-(9*ans[\"nines\"]))/3)\n",
    "    ans[\"ones\"]=int(a-(9*ans[\"nines\"])-(3*ans[\"threes\"]))\n",
    "    return ans\n",
    "\n",
    "ones_threes_nines(15)"
   ],
   "outputs": [
    {
     "output_type": "execute_result",
     "data": {
      "text/plain": [
       "{'nines': 1, 'threes': 2, 'ones': 0}"
      ]
     },
     "metadata": {},
     "execution_count": 5
    }
   ],
   "metadata": {}
  },
  {
   "cell_type": "markdown",
   "source": [
    "## ans 5"
   ],
   "metadata": {}
  },
  {
   "cell_type": "code",
   "execution_count": 7,
   "source": [
    "def fastFib(num):\n",
    "    a=0\n",
    "    b=1\n",
    "    c=0\n",
    "    for i in range(2,num+1):\n",
    "        c=a+b\n",
    "        l=b\n",
    "        b=c\n",
    "        a=l\n",
    "    return c\n",
    "fastFib(6)"
   ],
   "outputs": [
    {
     "output_type": "execute_result",
     "data": {
      "text/plain": [
       "8"
      ]
     },
     "metadata": {},
     "execution_count": 7
    }
   ],
   "metadata": {}
  }
 ],
 "metadata": {
  "orig_nbformat": 4,
  "language_info": {
   "name": "python",
   "version": "3.8.8",
   "mimetype": "text/x-python",
   "codemirror_mode": {
    "name": "ipython",
    "version": 3
   },
   "pygments_lexer": "ipython3",
   "nbconvert_exporter": "python",
   "file_extension": ".py"
  },
  "kernelspec": {
   "name": "python3",
   "display_name": "Python 3.8.8 64-bit ('base': conda)"
  },
  "interpreter": {
   "hash": "286e774b504df13e04a7d8e77e6d4af77665f84c20482e9e6db1a1f534c37820"
  }
 },
 "nbformat": 4,
 "nbformat_minor": 2
}