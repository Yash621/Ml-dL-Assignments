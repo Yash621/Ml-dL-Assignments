{
 "cells": [
  {
   "cell_type": "code",
   "execution_count": 1,
   "metadata": {},
   "outputs": [],
   "source": [
    "import numpy as np \n",
    "\n",
    "\n",
    "\n",
    "\n"
   ]
  },
  {
   "cell_type": "code",
   "execution_count": null,
   "metadata": {},
   "outputs": [],
   "source": []
  }
 ],
 "metadata": {
  "language_info": {
   "name": "python",
   "version": "3.6.13"
  },
  "kernelspec": {
   "name": "python3",
   "display_name": "Python 3.6.13 64-bit ('envname': conda)"
  },
  "interpreter": {
   "hash": "8665e1e22109b82811cab83a5838937839acf85821929ac77f05bd1d58259294"
  }
 },
 "nbformat": 4,
 "nbformat_minor": 5
}