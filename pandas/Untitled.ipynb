{
 "cells": [
  {
   "cell_type": "code",
   "execution_count": 1,
   "id": "e77588c2",
   "metadata": {},
   "outputs": [
    {
     "output_type": "execute_result",
     "data": {
      "text/plain": [
       "     Year Month  Day                       Location  \\\n",
       "0    1540   Nov   26             Region of Calippus   \n",
       "1    1587   Mar    5                      Dark Side   \n",
       "2    1668   Nov   26                      Dark Side   \n",
       "3    1671   Oct   21                        Pitatus   \n",
       "4    1671   Nov   12                        Pitatus   \n",
       "..    ...   ...  ...                            ...   \n",
       "531  1967   Sep   11  Mare Tranquilitaties: 8-9 sec   \n",
       "532  1967   Sep   11                         Sabine   \n",
       "533  1967   Sep   17                    Aristarchus   \n",
       "534  1967   Oct   10                   SE of Ross D   \n",
       "535  1967   Oct   19                         Kepler   \n",
       "\n",
       "                                           Description  \\\n",
       "0                     Starlike appearance on dark side   \n",
       "1    A sterre is sene in the bodie of the moon vpon...   \n",
       "2                                Bright starlike point   \n",
       "3                                                  NaN   \n",
       "4                                  Small whitish cloud   \n",
       "..                                                 ...   \n",
       "531             Black cloud surrounded by violet color   \n",
       "532  Bright yellow flash visible a fraction of a se...   \n",
       "533                                 Red color observed   \n",
       "534  Bright area moved 80 kmhr toward SSE and expan...   \n",
       "535                                        Aristarchus   \n",
       "\n",
       "                            Credit  \n",
       "0               Observers at Worms  \n",
       "1                        Anonymous  \n",
       "2           Several New Englanders  \n",
       "3                              NaN  \n",
       "4                        D.Cassini  \n",
       "..                             ...  \n",
       "531                 Montreal group  \n",
       "532  Mrs P.Jean and Montreal group  \n",
       "533                         Delano  \n",
       "534                         Harris  \n",
       "535                      High moon  \n",
       "\n",
       "[536 rows x 6 columns]"
      ],
      "text/html": "<div>\n<style scoped>\n    .dataframe tbody tr th:only-of-type {\n        vertical-align: middle;\n    }\n\n    .dataframe tbody tr th {\n        vertical-align: top;\n    }\n\n    .dataframe thead th {\n        text-align: right;\n    }\n</style>\n<table border=\"1\" class=\"dataframe\">\n  <thead>\n    <tr style=\"text-align: right;\">\n      <th></th>\n      <th>Year</th>\n      <th>Month</th>\n      <th>Day</th>\n      <th>Location</th>\n      <th>Description</th>\n      <th>Credit</th>\n    </tr>\n  </thead>\n  <tbody>\n    <tr>\n      <th>0</th>\n      <td>1540</td>\n      <td>Nov</td>\n      <td>26</td>\n      <td>Region of Calippus</td>\n      <td>Starlike appearance on dark side</td>\n      <td>Observers at Worms</td>\n    </tr>\n    <tr>\n      <th>1</th>\n      <td>1587</td>\n      <td>Mar</td>\n      <td>5</td>\n      <td>Dark Side</td>\n      <td>A sterre is sene in the bodie of the moon vpon...</td>\n      <td>Anonymous</td>\n    </tr>\n    <tr>\n      <th>2</th>\n      <td>1668</td>\n      <td>Nov</td>\n      <td>26</td>\n      <td>Dark Side</td>\n      <td>Bright starlike point</td>\n      <td>Several New Englanders</td>\n    </tr>\n    <tr>\n      <th>3</th>\n      <td>1671</td>\n      <td>Oct</td>\n      <td>21</td>\n      <td>Pitatus</td>\n      <td>NaN</td>\n      <td>NaN</td>\n    </tr>\n    <tr>\n      <th>4</th>\n      <td>1671</td>\n      <td>Nov</td>\n      <td>12</td>\n      <td>Pitatus</td>\n      <td>Small whitish cloud</td>\n      <td>D.Cassini</td>\n    </tr>\n    <tr>\n      <th>...</th>\n      <td>...</td>\n      <td>...</td>\n      <td>...</td>\n      <td>...</td>\n      <td>...</td>\n      <td>...</td>\n    </tr>\n    <tr>\n      <th>531</th>\n      <td>1967</td>\n      <td>Sep</td>\n      <td>11</td>\n      <td>Mare Tranquilitaties: 8-9 sec</td>\n      <td>Black cloud surrounded by violet color</td>\n      <td>Montreal group</td>\n    </tr>\n    <tr>\n      <th>532</th>\n      <td>1967</td>\n      <td>Sep</td>\n      <td>11</td>\n      <td>Sabine</td>\n      <td>Bright yellow flash visible a fraction of a se...</td>\n      <td>Mrs P.Jean and Montreal group</td>\n    </tr>\n    <tr>\n      <th>533</th>\n      <td>1967</td>\n      <td>Sep</td>\n      <td>17</td>\n      <td>Aristarchus</td>\n      <td>Red color observed</td>\n      <td>Delano</td>\n    </tr>\n    <tr>\n      <th>534</th>\n      <td>1967</td>\n      <td>Oct</td>\n      <td>10</td>\n      <td>SE of Ross D</td>\n      <td>Bright area moved 80 kmhr toward SSE and expan...</td>\n      <td>Harris</td>\n    </tr>\n    <tr>\n      <th>535</th>\n      <td>1967</td>\n      <td>Oct</td>\n      <td>19</td>\n      <td>Kepler</td>\n      <td>Aristarchus</td>\n      <td>High moon</td>\n    </tr>\n  </tbody>\n</table>\n<p>536 rows × 6 columns</p>\n</div>"
     },
     "metadata": {},
     "execution_count": 1
    }
   ],
   "source": [
    "import pandas as pd\n",
    "table=pd.read_csv(\"./moon.csv\")\n",
    "table"
   ]
  },
  {
   "cell_type": "code",
   "execution_count": 2,
   "metadata": {},
   "outputs": [
    {
     "output_type": "execute_result",
     "data": {
      "text/plain": [
       "   Year Month  Day            Location  \\\n",
       "0  1540   Nov   26  Region of Calippus   \n",
       "1  1587   Mar    5           Dark Side   \n",
       "2  1668   Nov   26           Dark Side   \n",
       "3  1671   Oct   21             Pitatus   \n",
       "4  1671   Nov   12             Pitatus   \n",
       "\n",
       "                                         Description                  Credit  \n",
       "0                   Starlike appearance on dark side      Observers at Worms  \n",
       "1  A sterre is sene in the bodie of the moon vpon...               Anonymous  \n",
       "2                              Bright starlike point  Several New Englanders  \n",
       "3                                                NaN                     NaN  \n",
       "4                                Small whitish cloud               D.Cassini  "
      ],
      "text/html": "<div>\n<style scoped>\n    .dataframe tbody tr th:only-of-type {\n        vertical-align: middle;\n    }\n\n    .dataframe tbody tr th {\n        vertical-align: top;\n    }\n\n    .dataframe thead th {\n        text-align: right;\n    }\n</style>\n<table border=\"1\" class=\"dataframe\">\n  <thead>\n    <tr style=\"text-align: right;\">\n      <th></th>\n      <th>Year</th>\n      <th>Month</th>\n      <th>Day</th>\n      <th>Location</th>\n      <th>Description</th>\n      <th>Credit</th>\n    </tr>\n  </thead>\n  <tbody>\n    <tr>\n      <th>0</th>\n      <td>1540</td>\n      <td>Nov</td>\n      <td>26</td>\n      <td>Region of Calippus</td>\n      <td>Starlike appearance on dark side</td>\n      <td>Observers at Worms</td>\n    </tr>\n    <tr>\n      <th>1</th>\n      <td>1587</td>\n      <td>Mar</td>\n      <td>5</td>\n      <td>Dark Side</td>\n      <td>A sterre is sene in the bodie of the moon vpon...</td>\n      <td>Anonymous</td>\n    </tr>\n    <tr>\n      <th>2</th>\n      <td>1668</td>\n      <td>Nov</td>\n      <td>26</td>\n      <td>Dark Side</td>\n      <td>Bright starlike point</td>\n      <td>Several New Englanders</td>\n    </tr>\n    <tr>\n      <th>3</th>\n      <td>1671</td>\n      <td>Oct</td>\n      <td>21</td>\n      <td>Pitatus</td>\n      <td>NaN</td>\n      <td>NaN</td>\n    </tr>\n    <tr>\n      <th>4</th>\n      <td>1671</td>\n      <td>Nov</td>\n      <td>12</td>\n      <td>Pitatus</td>\n      <td>Small whitish cloud</td>\n      <td>D.Cassini</td>\n    </tr>\n  </tbody>\n</table>\n</div>"
     },
     "metadata": {},
     "execution_count": 2
    }
   ],
   "source": [
    "table.head()"
   ]
  },
  {
   "cell_type": "code",
   "execution_count": 3,
   "metadata": {},
   "outputs": [
    {
     "output_type": "execute_result",
     "data": {
      "text/plain": [
       "     Year Month  Day                       Location  \\\n",
       "531  1967   Sep   11  Mare Tranquilitaties: 8-9 sec   \n",
       "532  1967   Sep   11                         Sabine   \n",
       "533  1967   Sep   17                    Aristarchus   \n",
       "534  1967   Oct   10                   SE of Ross D   \n",
       "535  1967   Oct   19                         Kepler   \n",
       "\n",
       "                                           Description  \\\n",
       "531             Black cloud surrounded by violet color   \n",
       "532  Bright yellow flash visible a fraction of a se...   \n",
       "533                                 Red color observed   \n",
       "534  Bright area moved 80 kmhr toward SSE and expan...   \n",
       "535                                        Aristarchus   \n",
       "\n",
       "                            Credit  \n",
       "531                 Montreal group  \n",
       "532  Mrs P.Jean and Montreal group  \n",
       "533                         Delano  \n",
       "534                         Harris  \n",
       "535                      High moon  "
      ],
      "text/html": "<div>\n<style scoped>\n    .dataframe tbody tr th:only-of-type {\n        vertical-align: middle;\n    }\n\n    .dataframe tbody tr th {\n        vertical-align: top;\n    }\n\n    .dataframe thead th {\n        text-align: right;\n    }\n</style>\n<table border=\"1\" class=\"dataframe\">\n  <thead>\n    <tr style=\"text-align: right;\">\n      <th></th>\n      <th>Year</th>\n      <th>Month</th>\n      <th>Day</th>\n      <th>Location</th>\n      <th>Description</th>\n      <th>Credit</th>\n    </tr>\n  </thead>\n  <tbody>\n    <tr>\n      <th>531</th>\n      <td>1967</td>\n      <td>Sep</td>\n      <td>11</td>\n      <td>Mare Tranquilitaties: 8-9 sec</td>\n      <td>Black cloud surrounded by violet color</td>\n      <td>Montreal group</td>\n    </tr>\n    <tr>\n      <th>532</th>\n      <td>1967</td>\n      <td>Sep</td>\n      <td>11</td>\n      <td>Sabine</td>\n      <td>Bright yellow flash visible a fraction of a se...</td>\n      <td>Mrs P.Jean and Montreal group</td>\n    </tr>\n    <tr>\n      <th>533</th>\n      <td>1967</td>\n      <td>Sep</td>\n      <td>17</td>\n      <td>Aristarchus</td>\n      <td>Red color observed</td>\n      <td>Delano</td>\n    </tr>\n    <tr>\n      <th>534</th>\n      <td>1967</td>\n      <td>Oct</td>\n      <td>10</td>\n      <td>SE of Ross D</td>\n      <td>Bright area moved 80 kmhr toward SSE and expan...</td>\n      <td>Harris</td>\n    </tr>\n    <tr>\n      <th>535</th>\n      <td>1967</td>\n      <td>Oct</td>\n      <td>19</td>\n      <td>Kepler</td>\n      <td>Aristarchus</td>\n      <td>High moon</td>\n    </tr>\n  </tbody>\n</table>\n</div>"
     },
     "metadata": {},
     "execution_count": 3
    }
   ],
   "source": [
    "table.tail()"
   ]
  },
  {
   "cell_type": "code",
   "execution_count": 4,
   "metadata": {},
   "outputs": [
    {
     "output_type": "execute_result",
     "data": {
      "text/plain": [
       "pandas.core.frame.DataFrame"
      ]
     },
     "metadata": {},
     "execution_count": 4
    }
   ],
   "source": [
    " type(table)"
   ]
  },
  {
   "cell_type": "code",
   "execution_count": 5,
   "metadata": {},
   "outputs": [],
   "source": [
    "table.head().to_csv(\"test.csv\")"
   ]
  },
  {
   "cell_type": "code",
   "execution_count": 17,
   "metadata": {},
   "outputs": [
    {
     "output_type": "execute_result",
     "data": {
      "text/plain": [
       "   a     b    c   d                   e  \\\n",
       "0  0  1540  Nov  26  Region of Calippus   \n",
       "1  1  1587  Mar   5           Dark Side   \n",
       "\n",
       "                                                   f                   g   h  \n",
       "0                   Starlike appearance on dark side  Observers at Worms NaN  \n",
       "1  A sterre is sene in the bodie of the moon vpon...           Anonymous NaN  "
      ],
      "text/html": "<div>\n<style scoped>\n    .dataframe tbody tr th:only-of-type {\n        vertical-align: middle;\n    }\n\n    .dataframe tbody tr th {\n        vertical-align: top;\n    }\n\n    .dataframe thead th {\n        text-align: right;\n    }\n</style>\n<table border=\"1\" class=\"dataframe\">\n  <thead>\n    <tr style=\"text-align: right;\">\n      <th></th>\n      <th>a</th>\n      <th>b</th>\n      <th>c</th>\n      <th>d</th>\n      <th>e</th>\n      <th>f</th>\n      <th>g</th>\n      <th>h</th>\n    </tr>\n  </thead>\n  <tbody>\n    <tr>\n      <th>0</th>\n      <td>0</td>\n      <td>1540</td>\n      <td>Nov</td>\n      <td>26</td>\n      <td>Region of Calippus</td>\n      <td>Starlike appearance on dark side</td>\n      <td>Observers at Worms</td>\n      <td>NaN</td>\n    </tr>\n    <tr>\n      <th>1</th>\n      <td>1</td>\n      <td>1587</td>\n      <td>Mar</td>\n      <td>5</td>\n      <td>Dark Side</td>\n      <td>A sterre is sene in the bodie of the moon vpon...</td>\n      <td>Anonymous</td>\n      <td>NaN</td>\n    </tr>\n  </tbody>\n</table>\n</div>"
     },
     "metadata": {},
     "execution_count": 17
    }
   ],
   "source": [
    "t=pd.read_csv(\"./test.csv\",sep=\"#\",header=None,names=['a','b','c','d','e','f','g','h'],skiprows=[0,3,4,5])\n",
    "t"
   ]
  },
  {
   "cell_type": "code",
   "execution_count": 18,
   "metadata": {},
   "outputs": [
    {
     "output_type": "execute_result",
     "data": {
      "text/plain": [
       "   Unnamed: 0  Year Month  Day            Location  \\\n",
       "0           0  1540   NaN   26  Region of Calippus   \n",
       "1           1  1587   Mar    5           Dark Side   \n",
       "2           2  1668   NaN   26           Dark Side   \n",
       "3           3  1671   Oct   21             Pitatus   \n",
       "4           4  1671   NaN   12             Pitatus   \n",
       "\n",
       "                                         Description                  Credit  \n",
       "0                   Starlike appearance on dark side      Observers at Worms  \n",
       "1  A sterre is sene in the bodie of the moon vpon...               Anonymous  \n",
       "2                              Bright starlike point  Several New Englanders  \n",
       "3                                                NaN                     NaN  \n",
       "4                                Small whitish cloud               D.Cassini  "
      ],
      "text/html": "<div>\n<style scoped>\n    .dataframe tbody tr th:only-of-type {\n        vertical-align: middle;\n    }\n\n    .dataframe tbody tr th {\n        vertical-align: top;\n    }\n\n    .dataframe thead th {\n        text-align: right;\n    }\n</style>\n<table border=\"1\" class=\"dataframe\">\n  <thead>\n    <tr style=\"text-align: right;\">\n      <th></th>\n      <th>Unnamed: 0</th>\n      <th>Year</th>\n      <th>Month</th>\n      <th>Day</th>\n      <th>Location</th>\n      <th>Description</th>\n      <th>Credit</th>\n    </tr>\n  </thead>\n  <tbody>\n    <tr>\n      <th>0</th>\n      <td>0</td>\n      <td>1540</td>\n      <td>NaN</td>\n      <td>26</td>\n      <td>Region of Calippus</td>\n      <td>Starlike appearance on dark side</td>\n      <td>Observers at Worms</td>\n    </tr>\n    <tr>\n      <th>1</th>\n      <td>1</td>\n      <td>1587</td>\n      <td>Mar</td>\n      <td>5</td>\n      <td>Dark Side</td>\n      <td>A sterre is sene in the bodie of the moon vpon...</td>\n      <td>Anonymous</td>\n    </tr>\n    <tr>\n      <th>2</th>\n      <td>2</td>\n      <td>1668</td>\n      <td>NaN</td>\n      <td>26</td>\n      <td>Dark Side</td>\n      <td>Bright starlike point</td>\n      <td>Several New Englanders</td>\n    </tr>\n    <tr>\n      <th>3</th>\n      <td>3</td>\n      <td>1671</td>\n      <td>Oct</td>\n      <td>21</td>\n      <td>Pitatus</td>\n      <td>NaN</td>\n      <td>NaN</td>\n    </tr>\n    <tr>\n      <th>4</th>\n      <td>4</td>\n      <td>1671</td>\n      <td>NaN</td>\n      <td>12</td>\n      <td>Pitatus</td>\n      <td>Small whitish cloud</td>\n      <td>D.Cassini</td>\n    </tr>\n  </tbody>\n</table>\n</div>"
     },
     "metadata": {},
     "execution_count": 18
    }
   ],
   "source": [
    "df=pd.read_csv(\"./test.csv\",sep=\"#\",na_values=[\"Nov\"])\n",
    "df"
   ]
  },
  {
   "cell_type": "code",
   "execution_count": 19,
   "metadata": {},
   "outputs": [
    {
     "output_type": "execute_result",
     "data": {
      "text/plain": [
       "              Year         Day\n",
       "count   536.000000  536.000000\n",
       "mean   1915.434701   15.779851\n",
       "std      66.694557    9.122635\n",
       "min    1540.000000    0.000000\n",
       "25%    1883.750000    8.000000\n",
       "50%    1950.500000   16.000000\n",
       "75%    1963.000000   24.000000\n",
       "max    1967.000000   31.000000"
      ],
      "text/html": "<div>\n<style scoped>\n    .dataframe tbody tr th:only-of-type {\n        vertical-align: middle;\n    }\n\n    .dataframe tbody tr th {\n        vertical-align: top;\n    }\n\n    .dataframe thead th {\n        text-align: right;\n    }\n</style>\n<table border=\"1\" class=\"dataframe\">\n  <thead>\n    <tr style=\"text-align: right;\">\n      <th></th>\n      <th>Year</th>\n      <th>Day</th>\n    </tr>\n  </thead>\n  <tbody>\n    <tr>\n      <th>count</th>\n      <td>536.000000</td>\n      <td>536.000000</td>\n    </tr>\n    <tr>\n      <th>mean</th>\n      <td>1915.434701</td>\n      <td>15.779851</td>\n    </tr>\n    <tr>\n      <th>std</th>\n      <td>66.694557</td>\n      <td>9.122635</td>\n    </tr>\n    <tr>\n      <th>min</th>\n      <td>1540.000000</td>\n      <td>0.000000</td>\n    </tr>\n    <tr>\n      <th>25%</th>\n      <td>1883.750000</td>\n      <td>8.000000</td>\n    </tr>\n    <tr>\n      <th>50%</th>\n      <td>1950.500000</td>\n      <td>16.000000</td>\n    </tr>\n    <tr>\n      <th>75%</th>\n      <td>1963.000000</td>\n      <td>24.000000</td>\n    </tr>\n    <tr>\n      <th>max</th>\n      <td>1967.000000</td>\n      <td>31.000000</td>\n    </tr>\n  </tbody>\n</table>\n</div>"
     },
     "metadata": {},
     "execution_count": 19
    }
   ],
   "source": [
    " table.describe()"
   ]
  },
  {
   "cell_type": "code",
   "execution_count": 20,
   "metadata": {},
   "outputs": [
    {
     "output_type": "execute_result",
     "data": {
      "text/plain": [
       "     Year Month\n",
       "0    1540   Nov\n",
       "1    1587   Mar\n",
       "2    1668   Nov\n",
       "3    1671   Oct\n",
       "4    1671   Nov\n",
       "..    ...   ...\n",
       "531  1967   Sep\n",
       "532  1967   Sep\n",
       "533  1967   Sep\n",
       "534  1967   Oct\n",
       "535  1967   Oct\n",
       "\n",
       "[536 rows x 2 columns]"
      ],
      "text/html": "<div>\n<style scoped>\n    .dataframe tbody tr th:only-of-type {\n        vertical-align: middle;\n    }\n\n    .dataframe tbody tr th {\n        vertical-align: top;\n    }\n\n    .dataframe thead th {\n        text-align: right;\n    }\n</style>\n<table border=\"1\" class=\"dataframe\">\n  <thead>\n    <tr style=\"text-align: right;\">\n      <th></th>\n      <th>Year</th>\n      <th>Month</th>\n    </tr>\n  </thead>\n  <tbody>\n    <tr>\n      <th>0</th>\n      <td>1540</td>\n      <td>Nov</td>\n    </tr>\n    <tr>\n      <th>1</th>\n      <td>1587</td>\n      <td>Mar</td>\n    </tr>\n    <tr>\n      <th>2</th>\n      <td>1668</td>\n      <td>Nov</td>\n    </tr>\n    <tr>\n      <th>3</th>\n      <td>1671</td>\n      <td>Oct</td>\n    </tr>\n    <tr>\n      <th>4</th>\n      <td>1671</td>\n      <td>Nov</td>\n    </tr>\n    <tr>\n      <th>...</th>\n      <td>...</td>\n      <td>...</td>\n    </tr>\n    <tr>\n      <th>531</th>\n      <td>1967</td>\n      <td>Sep</td>\n    </tr>\n    <tr>\n      <th>532</th>\n      <td>1967</td>\n      <td>Sep</td>\n    </tr>\n    <tr>\n      <th>533</th>\n      <td>1967</td>\n      <td>Sep</td>\n    </tr>\n    <tr>\n      <th>534</th>\n      <td>1967</td>\n      <td>Oct</td>\n    </tr>\n    <tr>\n      <th>535</th>\n      <td>1967</td>\n      <td>Oct</td>\n    </tr>\n  </tbody>\n</table>\n<p>536 rows × 2 columns</p>\n</div>"
     },
     "metadata": {},
     "execution_count": 20
    }
   ],
   "source": [
    "table[[\"Year\",\"Month\"]]"
   ]
  },
  {
   "cell_type": "code",
   "execution_count": 24,
   "metadata": {},
   "outputs": [
    {
     "output_type": "execute_result",
     "data": {
      "text/plain": [
       "[   Rk           Player  From    To    G   GS     MP   FG   FGA    FG%  ...  \\\n",
       " 0   1      Serge Ibaka  2010  2016  484  373  13820  8.7  16.4  0.529  ...   \n",
       " 1   2  Markieff Morris  2012  2016  332  137   8342  8.8  19.9  0.444  ...   \n",
       " \n",
       "     TRB  AST  STL  BLK  TOV   PF   PTS  Unnamed: 28  ORtg  DRtg  \n",
       " 0  13.2  1.0  0.7  4.6  2.3  5.1  20.6          NaN   114   102  \n",
       " 1  10.7  3.4  1.8  1.2  3.3  5.6  22.7          NaN   102   106  \n",
       " \n",
       " [2 rows x 31 columns]]"
      ]
     },
     "metadata": {},
     "execution_count": 24
    }
   ],
   "source": [
    "html=pd.read_html(\"https://www.basketball-reference.com/tools/share.fcgi?id=DUH98\")\n",
    "html"
   ]
  },
  {
   "cell_type": "code",
   "execution_count": 25,
   "metadata": {},
   "outputs": [
    {
     "output_type": "execute_result",
     "data": {
      "text/plain": [
       "list"
      ]
     },
     "metadata": {},
     "execution_count": 25
    }
   ],
   "source": [
    "type(html)"
   ]
  },
  {
   "cell_type": "code",
   "execution_count": 26,
   "metadata": {},
   "outputs": [
    {
     "output_type": "execute_result",
     "data": {
      "text/plain": [
       "1"
      ]
     },
     "metadata": {},
     "execution_count": 26
    }
   ],
   "source": [
    "len(html)"
   ]
  },
  {
   "cell_type": "code",
   "execution_count": 27,
   "metadata": {},
   "outputs": [
    {
     "output_type": "execute_result",
     "data": {
      "text/plain": [
       "   Rk           Player  From    To    G   GS     MP   FG   FGA    FG%  ...  \\\n",
       "0   1      Serge Ibaka  2010  2016  484  373  13820  8.7  16.4  0.529  ...   \n",
       "1   2  Markieff Morris  2012  2016  332  137   8342  8.8  19.9  0.444  ...   \n",
       "\n",
       "    TRB  AST  STL  BLK  TOV   PF   PTS  Unnamed: 28  ORtg  DRtg  \n",
       "0  13.2  1.0  0.7  4.6  2.3  5.1  20.6          NaN   114   102  \n",
       "1  10.7  3.4  1.8  1.2  3.3  5.6  22.7          NaN   102   106  \n",
       "\n",
       "[2 rows x 31 columns]"
      ],
      "text/html": "<div>\n<style scoped>\n    .dataframe tbody tr th:only-of-type {\n        vertical-align: middle;\n    }\n\n    .dataframe tbody tr th {\n        vertical-align: top;\n    }\n\n    .dataframe thead th {\n        text-align: right;\n    }\n</style>\n<table border=\"1\" class=\"dataframe\">\n  <thead>\n    <tr style=\"text-align: right;\">\n      <th></th>\n      <th>Rk</th>\n      <th>Player</th>\n      <th>From</th>\n      <th>To</th>\n      <th>G</th>\n      <th>GS</th>\n      <th>MP</th>\n      <th>FG</th>\n      <th>FGA</th>\n      <th>FG%</th>\n      <th>...</th>\n      <th>TRB</th>\n      <th>AST</th>\n      <th>STL</th>\n      <th>BLK</th>\n      <th>TOV</th>\n      <th>PF</th>\n      <th>PTS</th>\n      <th>Unnamed: 28</th>\n      <th>ORtg</th>\n      <th>DRtg</th>\n    </tr>\n  </thead>\n  <tbody>\n    <tr>\n      <th>0</th>\n      <td>1</td>\n      <td>Serge Ibaka</td>\n      <td>2010</td>\n      <td>2016</td>\n      <td>484</td>\n      <td>373</td>\n      <td>13820</td>\n      <td>8.7</td>\n      <td>16.4</td>\n      <td>0.529</td>\n      <td>...</td>\n      <td>13.2</td>\n      <td>1.0</td>\n      <td>0.7</td>\n      <td>4.6</td>\n      <td>2.3</td>\n      <td>5.1</td>\n      <td>20.6</td>\n      <td>NaN</td>\n      <td>114</td>\n      <td>102</td>\n    </tr>\n    <tr>\n      <th>1</th>\n      <td>2</td>\n      <td>Markieff Morris</td>\n      <td>2012</td>\n      <td>2016</td>\n      <td>332</td>\n      <td>137</td>\n      <td>8342</td>\n      <td>8.8</td>\n      <td>19.9</td>\n      <td>0.444</td>\n      <td>...</td>\n      <td>10.7</td>\n      <td>3.4</td>\n      <td>1.8</td>\n      <td>1.2</td>\n      <td>3.3</td>\n      <td>5.6</td>\n      <td>22.7</td>\n      <td>NaN</td>\n      <td>102</td>\n      <td>106</td>\n    </tr>\n  </tbody>\n</table>\n<p>2 rows × 31 columns</p>\n</div>"
     },
     "metadata": {},
     "execution_count": 27
    }
   ],
   "source": [
    "html[0]"
   ]
  },
  {
   "cell_type": "code",
   "execution_count": 29,
   "metadata": {},
   "outputs": [
    {
     "output_type": "execute_result",
     "data": {
      "text/plain": [
       "[   Rk           Player  From    To    G   GS     MP   FG   FGA    FG%  ...  \\\n",
       " 0   1      Serge Ibaka  2010  2016  484  373  13820  8.7  16.4  0.529  ...   \n",
       " 1   2  Markieff Morris  2012  2016  332  137   8342  8.8  19.9  0.444  ...   \n",
       " \n",
       "     TRB  AST  STL  BLK  TOV   PF   PTS  Unnamed: 28  ORtg  DRtg  \n",
       " 0  13.2  1.0  0.7  4.6  2.3  5.1  20.6          NaN   114   102  \n",
       " 1  10.7  3.4  1.8  1.2  3.3  5.6  22.7          NaN   102   106  \n",
       " \n",
       " [2 rows x 31 columns]]"
      ]
     },
     "metadata": {},
     "execution_count": 29
    }
   ],
   "source": [
    "html"
   ]
  },
  {
   "cell_type": "code",
   "execution_count": 28,
   "metadata": {},
   "outputs": [
    {
     "output_type": "execute_result",
     "data": {
      "text/plain": [
       "Year            int64\n",
       "Month          object\n",
       "Day             int64\n",
       "Location       object\n",
       "Description    object\n",
       "Credit         object\n",
       "dtype: object"
      ]
     },
     "metadata": {},
     "execution_count": 28
    }
   ],
   "source": [
    "t1=pd.DataFrame(table)\n",
    "\n",
    "t1.dtypes"
   ]
  },
  {
   "cell_type": "code",
   "execution_count": 32,
   "metadata": {},
   "outputs": [
    {
     "output_type": "execute_result",
     "data": {
      "text/plain": [
       "Year           False\n",
       "Month           True\n",
       "Day            False\n",
       "Location        True\n",
       "Description     True\n",
       "Credit          True\n",
       "dtype: bool"
      ]
     },
     "metadata": {},
     "execution_count": 32
    }
   ],
   "source": [
    "t1.dtypes==\"object\""
   ]
  },
  {
   "cell_type": "code",
   "execution_count": 39,
   "metadata": {},
   "outputs": [
    {
     "output_type": "execute_result",
     "data": {
      "text/plain": [
       "    Month                       Location  \\\n",
       "0     Nov             Region of Calippus   \n",
       "1     Mar                      Dark Side   \n",
       "2     Nov                      Dark Side   \n",
       "3     Oct                        Pitatus   \n",
       "4     Nov                        Pitatus   \n",
       "..    ...                            ...   \n",
       "531   Sep  Mare Tranquilitaties: 8-9 sec   \n",
       "532   Sep                         Sabine   \n",
       "533   Sep                    Aristarchus   \n",
       "534   Oct                   SE of Ross D   \n",
       "535   Oct                         Kepler   \n",
       "\n",
       "                                           Description  \\\n",
       "0                     Starlike appearance on dark side   \n",
       "1    A sterre is sene in the bodie of the moon vpon...   \n",
       "2                                Bright starlike point   \n",
       "3                                                  NaN   \n",
       "4                                  Small whitish cloud   \n",
       "..                                                 ...   \n",
       "531             Black cloud surrounded by violet color   \n",
       "532  Bright yellow flash visible a fraction of a se...   \n",
       "533                                 Red color observed   \n",
       "534  Bright area moved 80 kmhr toward SSE and expan...   \n",
       "535                                        Aristarchus   \n",
       "\n",
       "                            Credit  \n",
       "0               Observers at Worms  \n",
       "1                        Anonymous  \n",
       "2           Several New Englanders  \n",
       "3                              NaN  \n",
       "4                        D.Cassini  \n",
       "..                             ...  \n",
       "531                 Montreal group  \n",
       "532  Mrs P.Jean and Montreal group  \n",
       "533                         Delano  \n",
       "534                         Harris  \n",
       "535                      High moon  \n",
       "\n",
       "[536 rows x 4 columns]"
      ],
      "text/html": "<div>\n<style scoped>\n    .dataframe tbody tr th:only-of-type {\n        vertical-align: middle;\n    }\n\n    .dataframe tbody tr th {\n        vertical-align: top;\n    }\n\n    .dataframe thead th {\n        text-align: right;\n    }\n</style>\n<table border=\"1\" class=\"dataframe\">\n  <thead>\n    <tr style=\"text-align: right;\">\n      <th></th>\n      <th>Month</th>\n      <th>Location</th>\n      <th>Description</th>\n      <th>Credit</th>\n    </tr>\n  </thead>\n  <tbody>\n    <tr>\n      <th>0</th>\n      <td>Nov</td>\n      <td>Region of Calippus</td>\n      <td>Starlike appearance on dark side</td>\n      <td>Observers at Worms</td>\n    </tr>\n    <tr>\n      <th>1</th>\n      <td>Mar</td>\n      <td>Dark Side</td>\n      <td>A sterre is sene in the bodie of the moon vpon...</td>\n      <td>Anonymous</td>\n    </tr>\n    <tr>\n      <th>2</th>\n      <td>Nov</td>\n      <td>Dark Side</td>\n      <td>Bright starlike point</td>\n      <td>Several New Englanders</td>\n    </tr>\n    <tr>\n      <th>3</th>\n      <td>Oct</td>\n      <td>Pitatus</td>\n      <td>NaN</td>\n      <td>NaN</td>\n    </tr>\n    <tr>\n      <th>4</th>\n      <td>Nov</td>\n      <td>Pitatus</td>\n      <td>Small whitish cloud</td>\n      <td>D.Cassini</td>\n    </tr>\n    <tr>\n      <th>...</th>\n      <td>...</td>\n      <td>...</td>\n      <td>...</td>\n      <td>...</td>\n    </tr>\n    <tr>\n      <th>531</th>\n      <td>Sep</td>\n      <td>Mare Tranquilitaties: 8-9 sec</td>\n      <td>Black cloud surrounded by violet color</td>\n      <td>Montreal group</td>\n    </tr>\n    <tr>\n      <th>532</th>\n      <td>Sep</td>\n      <td>Sabine</td>\n      <td>Bright yellow flash visible a fraction of a se...</td>\n      <td>Mrs P.Jean and Montreal group</td>\n    </tr>\n    <tr>\n      <th>533</th>\n      <td>Sep</td>\n      <td>Aristarchus</td>\n      <td>Red color observed</td>\n      <td>Delano</td>\n    </tr>\n    <tr>\n      <th>534</th>\n      <td>Oct</td>\n      <td>SE of Ross D</td>\n      <td>Bright area moved 80 kmhr toward SSE and expan...</td>\n      <td>Harris</td>\n    </tr>\n    <tr>\n      <th>535</th>\n      <td>Oct</td>\n      <td>Kepler</td>\n      <td>Aristarchus</td>\n      <td>High moon</td>\n    </tr>\n  </tbody>\n</table>\n<p>536 rows × 4 columns</p>\n</div>"
     },
     "metadata": {},
     "execution_count": 39
    }
   ],
   "source": [
    "t1[t1.dtypes[t1.dtypes==\"object\"].index]"
   ]
  },
  {
   "cell_type": "code",
   "execution_count": 42,
   "metadata": {},
   "outputs": [
    {
     "output_type": "execute_result",
     "data": {
      "text/plain": [
       "Month          object\n",
       "Location       object\n",
       "Description    object\n",
       "Credit         object\n",
       "dtype: object"
      ]
     },
     "metadata": {},
     "execution_count": 42
    }
   ],
   "source": [
    "t1.dtypes[t1.dtypes==\"object\"]"
   ]
  },
  {
   "cell_type": "code",
   "execution_count": 4,
   "metadata": {},
   "outputs": [
    {
     "output_type": "execute_result",
     "data": {
      "text/plain": [
       "Index(['Year', 'Month', 'Day', 'Location', 'Description', 'Credit'], dtype='object')"
      ]
     },
     "metadata": {},
     "execution_count": 4
    }
   ],
   "source": [
    "table.columns\n",
    "  \n"
   ]
  },
  {
   "cell_type": "code",
   "execution_count": 6,
   "metadata": {},
   "outputs": [
    {
     "output_type": "execute_result",
     "data": {
      "text/plain": [
       "   Year Month  Day   Location  \\\n",
       "1  1587   Mar    5  Dark Side   \n",
       "2  1668   Nov   26  Dark Side   \n",
       "3  1671   Oct   21    Pitatus   \n",
       "\n",
       "                                         Description                  Credit  \n",
       "1  A sterre is sene in the bodie of the moon vpon...               Anonymous  \n",
       "2                              Bright starlike point  Several New Englanders  \n",
       "3                                                NaN                     NaN  "
      ],
      "text/html": "<div>\n<style scoped>\n    .dataframe tbody tr th:only-of-type {\n        vertical-align: middle;\n    }\n\n    .dataframe tbody tr th {\n        vertical-align: top;\n    }\n\n    .dataframe thead th {\n        text-align: right;\n    }\n</style>\n<table border=\"1\" class=\"dataframe\">\n  <thead>\n    <tr style=\"text-align: right;\">\n      <th></th>\n      <th>Year</th>\n      <th>Month</th>\n      <th>Day</th>\n      <th>Location</th>\n      <th>Description</th>\n      <th>Credit</th>\n    </tr>\n  </thead>\n  <tbody>\n    <tr>\n      <th>1</th>\n      <td>1587</td>\n      <td>Mar</td>\n      <td>5</td>\n      <td>Dark Side</td>\n      <td>A sterre is sene in the bodie of the moon vpon...</td>\n      <td>Anonymous</td>\n    </tr>\n    <tr>\n      <th>2</th>\n      <td>1668</td>\n      <td>Nov</td>\n      <td>26</td>\n      <td>Dark Side</td>\n      <td>Bright starlike point</td>\n      <td>Several New Englanders</td>\n    </tr>\n    <tr>\n      <th>3</th>\n      <td>1671</td>\n      <td>Oct</td>\n      <td>21</td>\n      <td>Pitatus</td>\n      <td>NaN</td>\n      <td>NaN</td>\n    </tr>\n  </tbody>\n</table>\n</div>"
     },
     "metadata": {},
     "execution_count": 6
    }
   ],
   "source": [
    "table.iloc[[1,2,3]]\n"
   ]
  },
  {
   "cell_type": "code",
   "execution_count": 7,
   "metadata": {},
   "outputs": [
    {
     "output_type": "execute_result",
     "data": {
      "text/plain": [
       "     Year Month  Day                       Location  \\\n",
       "0    1540   Nov   26             Region of Calippus   \n",
       "1    1587   Mar    5                      Dark Side   \n",
       "2    1668   Nov   26                      Dark Side   \n",
       "3    1671   Oct   21                        Pitatus   \n",
       "4    1671   Nov   12                        Pitatus   \n",
       "..    ...   ...  ...                            ...   \n",
       "531  1967   Sep   11  Mare Tranquilitaties: 8-9 sec   \n",
       "532  1967   Sep   11                         Sabine   \n",
       "533  1967   Sep   17                    Aristarchus   \n",
       "534  1967   Oct   10                   SE of Ross D   \n",
       "535  1967   Oct   19                         Kepler   \n",
       "\n",
       "                                           Description  \\\n",
       "0                     Starlike appearance on dark side   \n",
       "1    A sterre is sene in the bodie of the moon vpon...   \n",
       "2                                Bright starlike point   \n",
       "3                                                  NaN   \n",
       "4                                  Small whitish cloud   \n",
       "..                                                 ...   \n",
       "531             Black cloud surrounded by violet color   \n",
       "532  Bright yellow flash visible a fraction of a se...   \n",
       "533                                 Red color observed   \n",
       "534  Bright area moved 80 kmhr toward SSE and expan...   \n",
       "535                                        Aristarchus   \n",
       "\n",
       "                            Credit  \n",
       "0               Observers at Worms  \n",
       "1                        Anonymous  \n",
       "2           Several New Englanders  \n",
       "3                              NaN  \n",
       "4                        D.Cassini  \n",
       "..                             ...  \n",
       "531                 Montreal group  \n",
       "532  Mrs P.Jean and Montreal group  \n",
       "533                         Delano  \n",
       "534                         Harris  \n",
       "535                      High moon  \n",
       "\n",
       "[536 rows x 6 columns]"
      ],
      "text/html": "<div>\n<style scoped>\n    .dataframe tbody tr th:only-of-type {\n        vertical-align: middle;\n    }\n\n    .dataframe tbody tr th {\n        vertical-align: top;\n    }\n\n    .dataframe thead th {\n        text-align: right;\n    }\n</style>\n<table border=\"1\" class=\"dataframe\">\n  <thead>\n    <tr style=\"text-align: right;\">\n      <th></th>\n      <th>Year</th>\n      <th>Month</th>\n      <th>Day</th>\n      <th>Location</th>\n      <th>Description</th>\n      <th>Credit</th>\n    </tr>\n  </thead>\n  <tbody>\n    <tr>\n      <th>0</th>\n      <td>1540</td>\n      <td>Nov</td>\n      <td>26</td>\n      <td>Region of Calippus</td>\n      <td>Starlike appearance on dark side</td>\n      <td>Observers at Worms</td>\n    </tr>\n    <tr>\n      <th>1</th>\n      <td>1587</td>\n      <td>Mar</td>\n      <td>5</td>\n      <td>Dark Side</td>\n      <td>A sterre is sene in the bodie of the moon vpon...</td>\n      <td>Anonymous</td>\n    </tr>\n    <tr>\n      <th>2</th>\n      <td>1668</td>\n      <td>Nov</td>\n      <td>26</td>\n      <td>Dark Side</td>\n      <td>Bright starlike point</td>\n      <td>Several New Englanders</td>\n    </tr>\n    <tr>\n      <th>3</th>\n      <td>1671</td>\n      <td>Oct</td>\n      <td>21</td>\n      <td>Pitatus</td>\n      <td>NaN</td>\n      <td>NaN</td>\n    </tr>\n    <tr>\n      <th>4</th>\n      <td>1671</td>\n      <td>Nov</td>\n      <td>12</td>\n      <td>Pitatus</td>\n      <td>Small whitish cloud</td>\n      <td>D.Cassini</td>\n    </tr>\n    <tr>\n      <th>...</th>\n      <td>...</td>\n      <td>...</td>\n      <td>...</td>\n      <td>...</td>\n      <td>...</td>\n      <td>...</td>\n    </tr>\n    <tr>\n      <th>531</th>\n      <td>1967</td>\n      <td>Sep</td>\n      <td>11</td>\n      <td>Mare Tranquilitaties: 8-9 sec</td>\n      <td>Black cloud surrounded by violet color</td>\n      <td>Montreal group</td>\n    </tr>\n    <tr>\n      <th>532</th>\n      <td>1967</td>\n      <td>Sep</td>\n      <td>11</td>\n      <td>Sabine</td>\n      <td>Bright yellow flash visible a fraction of a se...</td>\n      <td>Mrs P.Jean and Montreal group</td>\n    </tr>\n    <tr>\n      <th>533</th>\n      <td>1967</td>\n      <td>Sep</td>\n      <td>17</td>\n      <td>Aristarchus</td>\n      <td>Red color observed</td>\n      <td>Delano</td>\n    </tr>\n    <tr>\n      <th>534</th>\n      <td>1967</td>\n      <td>Oct</td>\n      <td>10</td>\n      <td>SE of Ross D</td>\n      <td>Bright area moved 80 kmhr toward SSE and expan...</td>\n      <td>Harris</td>\n    </tr>\n    <tr>\n      <th>535</th>\n      <td>1967</td>\n      <td>Oct</td>\n      <td>19</td>\n      <td>Kepler</td>\n      <td>Aristarchus</td>\n      <td>High moon</td>\n    </tr>\n  </tbody>\n</table>\n<p>536 rows × 6 columns</p>\n</div>"
     },
     "metadata": {},
     "execution_count": 7
    }
   ],
   "source": [
    "t2=pd.read_csv(\"moon.csv\")\n",
    "t2"
   ]
  },
  {
   "cell_type": "code",
   "execution_count": 13,
   "metadata": {},
   "outputs": [],
   "source": [
    "w=t2[[\"Month\"]][t2[\"Year\"]==max(t2[\"Year\"])]"
   ]
  },
  {
   "cell_type": "code",
   "execution_count": 14,
   "metadata": {},
   "outputs": [
    {
     "output_type": "execute_result",
     "data": {
      "text/plain": [
       "     Year Month  Day                                 Location  \\\n",
       "515  1967   Jan   21                                 Gassendi   \n",
       "516  1967   Feb   17                        Alphonsus: 25 min   \n",
       "517  1967   Feb   19                                  Moseley   \n",
       "518  1967   Mar   22                                 Gassendi   \n",
       "519  1967   Mar   23                                 Gassendi   \n",
       "520  1967   Mar   23                                Cobrahead   \n",
       "521  1967   Mar   23                              Aristarchus   \n",
       "522  1967   Apr   15  Aristarchus (on dark side): 1 hr 45 min   \n",
       "523  1967   Apr   21                 Aristarchus: 1 hr 59 min   \n",
       "524  1967   Apr   21                         Schroters Valley   \n",
       "525  1967   Apr   22             Aristarchus (on bright side)   \n",
       "526  1967   May   20                      Aristarchus: 15 min   \n",
       "527  1967   May   20                                 Gassendi   \n",
       "528  1967   May   29                      Aristarchus: 45 min   \n",
       "529  1967   Jun   18     Gassendi: 1 hr 20 min and 1 hr 9 min   \n",
       "530  1967   Aug   13                        Alphonsus: 15 min   \n",
       "531  1967   Sep   11            Mare Tranquilitaties: 8-9 sec   \n",
       "532  1967   Sep   11                                   Sabine   \n",
       "533  1967   Sep   17                              Aristarchus   \n",
       "534  1967   Oct   10                             SE of Ross D   \n",
       "535  1967   Oct   19                                   Kepler   \n",
       "\n",
       "                                           Description  \\\n",
       "515  Small blink and suspect faint colored patch in...   \n",
       "516  Blink just inside the SW floor of crater suspe...   \n",
       "517                                              Moore   \n",
       "518                                Red color and blink   \n",
       "519                             Red color under S wall   \n",
       "520                          Red color outside SE wall   \n",
       "521                                          Red glows   \n",
       "522  Aristarchus very bright. Seeing very good unti...   \n",
       "523           Bright points on S wall. Red patch to NE   \n",
       "524                                          Cobrahead   \n",
       "525  Aristarchus so bright that it could be seen wi...   \n",
       "526                   Red spots on south rim. Moon low   \n",
       "527                          Elongated blink in crater   \n",
       "528                                    Red-brown color   \n",
       "529  Faint redness outside the NW and SW wall of Ga...   \n",
       "530                         Glow in interior of crater   \n",
       "531             Black cloud surrounded by violet color   \n",
       "532  Bright yellow flash visible a fraction of a se...   \n",
       "533                                 Red color observed   \n",
       "534  Bright area moved 80 kmhr toward SSE and expan...   \n",
       "535                                        Aristarchus   \n",
       "\n",
       "                                                Credit  \n",
       "515                                                Apr  \n",
       "516                                              Moore  \n",
       "517                       B.A.A. Lunar Sec. Circ. 1967  \n",
       "518                                            Moseley  \n",
       "519                                            Sartory  \n",
       "520                                              Moore  \n",
       "521                                            Sartory  \n",
       "522  after which seeing too bad to continue observi...  \n",
       "523                                            Darnell  \n",
       "524                                          Red color  \n",
       "525                                            Classen  \n",
       "526                                            Darnell  \n",
       "527                                   SW part of floor  \n",
       "528                                      C.A. Anderson  \n",
       "529                                            Whippey  \n",
       "530                                           Horowitz  \n",
       "531                                     Montreal group  \n",
       "532                      Mrs P.Jean and Montreal group  \n",
       "533                                             Delano  \n",
       "534                                             Harris  \n",
       "535                                          High moon  "
      ],
      "text/html": "<div>\n<style scoped>\n    .dataframe tbody tr th:only-of-type {\n        vertical-align: middle;\n    }\n\n    .dataframe tbody tr th {\n        vertical-align: top;\n    }\n\n    .dataframe thead th {\n        text-align: right;\n    }\n</style>\n<table border=\"1\" class=\"dataframe\">\n  <thead>\n    <tr style=\"text-align: right;\">\n      <th></th>\n      <th>Year</th>\n      <th>Month</th>\n      <th>Day</th>\n      <th>Location</th>\n      <th>Description</th>\n      <th>Credit</th>\n    </tr>\n  </thead>\n  <tbody>\n    <tr>\n      <th>515</th>\n      <td>1967</td>\n      <td>Jan</td>\n      <td>21</td>\n      <td>Gassendi</td>\n      <td>Small blink and suspect faint colored patch in...</td>\n      <td>Apr</td>\n    </tr>\n    <tr>\n      <th>516</th>\n      <td>1967</td>\n      <td>Feb</td>\n      <td>17</td>\n      <td>Alphonsus: 25 min</td>\n      <td>Blink just inside the SW floor of crater suspe...</td>\n      <td>Moore</td>\n    </tr>\n    <tr>\n      <th>517</th>\n      <td>1967</td>\n      <td>Feb</td>\n      <td>19</td>\n      <td>Moseley</td>\n      <td>Moore</td>\n      <td>B.A.A. Lunar Sec. Circ. 1967</td>\n    </tr>\n    <tr>\n      <th>518</th>\n      <td>1967</td>\n      <td>Mar</td>\n      <td>22</td>\n      <td>Gassendi</td>\n      <td>Red color and blink</td>\n      <td>Moseley</td>\n    </tr>\n    <tr>\n      <th>519</th>\n      <td>1967</td>\n      <td>Mar</td>\n      <td>23</td>\n      <td>Gassendi</td>\n      <td>Red color under S wall</td>\n      <td>Sartory</td>\n    </tr>\n    <tr>\n      <th>520</th>\n      <td>1967</td>\n      <td>Mar</td>\n      <td>23</td>\n      <td>Cobrahead</td>\n      <td>Red color outside SE wall</td>\n      <td>Moore</td>\n    </tr>\n    <tr>\n      <th>521</th>\n      <td>1967</td>\n      <td>Mar</td>\n      <td>23</td>\n      <td>Aristarchus</td>\n      <td>Red glows</td>\n      <td>Sartory</td>\n    </tr>\n    <tr>\n      <th>522</th>\n      <td>1967</td>\n      <td>Apr</td>\n      <td>15</td>\n      <td>Aristarchus (on dark side): 1 hr 45 min</td>\n      <td>Aristarchus very bright. Seeing very good unti...</td>\n      <td>after which seeing too bad to continue observi...</td>\n    </tr>\n    <tr>\n      <th>523</th>\n      <td>1967</td>\n      <td>Apr</td>\n      <td>21</td>\n      <td>Aristarchus: 1 hr 59 min</td>\n      <td>Bright points on S wall. Red patch to NE</td>\n      <td>Darnell</td>\n    </tr>\n    <tr>\n      <th>524</th>\n      <td>1967</td>\n      <td>Apr</td>\n      <td>21</td>\n      <td>Schroters Valley</td>\n      <td>Cobrahead</td>\n      <td>Red color</td>\n    </tr>\n    <tr>\n      <th>525</th>\n      <td>1967</td>\n      <td>Apr</td>\n      <td>22</td>\n      <td>Aristarchus (on bright side)</td>\n      <td>Aristarchus so bright that it could be seen wi...</td>\n      <td>Classen</td>\n    </tr>\n    <tr>\n      <th>526</th>\n      <td>1967</td>\n      <td>May</td>\n      <td>20</td>\n      <td>Aristarchus: 15 min</td>\n      <td>Red spots on south rim. Moon low</td>\n      <td>Darnell</td>\n    </tr>\n    <tr>\n      <th>527</th>\n      <td>1967</td>\n      <td>May</td>\n      <td>20</td>\n      <td>Gassendi</td>\n      <td>Elongated blink in crater</td>\n      <td>SW part of floor</td>\n    </tr>\n    <tr>\n      <th>528</th>\n      <td>1967</td>\n      <td>May</td>\n      <td>29</td>\n      <td>Aristarchus: 45 min</td>\n      <td>Red-brown color</td>\n      <td>C.A. Anderson</td>\n    </tr>\n    <tr>\n      <th>529</th>\n      <td>1967</td>\n      <td>Jun</td>\n      <td>18</td>\n      <td>Gassendi: 1 hr 20 min and 1 hr 9 min</td>\n      <td>Faint redness outside the NW and SW wall of Ga...</td>\n      <td>Whippey</td>\n    </tr>\n    <tr>\n      <th>530</th>\n      <td>1967</td>\n      <td>Aug</td>\n      <td>13</td>\n      <td>Alphonsus: 15 min</td>\n      <td>Glow in interior of crater</td>\n      <td>Horowitz</td>\n    </tr>\n    <tr>\n      <th>531</th>\n      <td>1967</td>\n      <td>Sep</td>\n      <td>11</td>\n      <td>Mare Tranquilitaties: 8-9 sec</td>\n      <td>Black cloud surrounded by violet color</td>\n      <td>Montreal group</td>\n    </tr>\n    <tr>\n      <th>532</th>\n      <td>1967</td>\n      <td>Sep</td>\n      <td>11</td>\n      <td>Sabine</td>\n      <td>Bright yellow flash visible a fraction of a se...</td>\n      <td>Mrs P.Jean and Montreal group</td>\n    </tr>\n    <tr>\n      <th>533</th>\n      <td>1967</td>\n      <td>Sep</td>\n      <td>17</td>\n      <td>Aristarchus</td>\n      <td>Red color observed</td>\n      <td>Delano</td>\n    </tr>\n    <tr>\n      <th>534</th>\n      <td>1967</td>\n      <td>Oct</td>\n      <td>10</td>\n      <td>SE of Ross D</td>\n      <td>Bright area moved 80 kmhr toward SSE and expan...</td>\n      <td>Harris</td>\n    </tr>\n    <tr>\n      <th>535</th>\n      <td>1967</td>\n      <td>Oct</td>\n      <td>19</td>\n      <td>Kepler</td>\n      <td>Aristarchus</td>\n      <td>High moon</td>\n    </tr>\n  </tbody>\n</table>\n</div>"
     },
     "metadata": {},
     "execution_count": 14
    }
   ],
   "source": [
    "t2.iloc[w.index]"
   ]
  },
  {
   "cell_type": "code",
   "execution_count": null,
   "metadata": {},
   "outputs": [],
   "source": []
  }
 ],
 "metadata": {
  "kernelspec": {
   "name": "python3",
   "display_name": "Python 3.8.8 64-bit ('base': conda)"
  },
  "language_info": {
   "codemirror_mode": {
    "name": "ipython",
    "version": 3
   },
   "file_extension": ".py",
   "mimetype": "text/x-python",
   "name": "python",
   "nbconvert_exporter": "python",
   "pygments_lexer": "ipython3",
   "version": "3.8.8"
  },
  "interpreter": {
   "hash": "286e774b504df13e04a7d8e77e6d4af77665f84c20482e9e6db1a1f534c37820"
  }
 },
 "nbformat": 4,
 "nbformat_minor": 5
}