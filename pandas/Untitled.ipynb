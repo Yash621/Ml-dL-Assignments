{
 "cells": [
  {
   "cell_type": "code",
   "execution_count": 4,
   "id": "e77588c2",
   "metadata": {},
   "outputs": [
    {
     "output_type": "execute_result",
     "data": {
      "text/plain": [
       "     Year Month  Day                       Location  \\\n",
       "0    1540   Nov   26             Region of Calippus   \n",
       "1    1587   Mar    5                      Dark Side   \n",
       "2    1668   Nov   26                      Dark Side   \n",
       "3    1671   Oct   21                        Pitatus   \n",
       "4    1671   Nov   12                        Pitatus   \n",
       "..    ...   ...  ...                            ...   \n",
       "531  1967   Sep   11  Mare Tranquilitaties: 8-9 sec   \n",
       "532  1967   Sep   11                         Sabine   \n",
       "533  1967   Sep   17                    Aristarchus   \n",
       "534  1967   Oct   10                   SE of Ross D   \n",
       "535  1967   Oct   19                         Kepler   \n",
       "\n",
       "                                           Description  \\\n",
       "0                     Starlike appearance on dark side   \n",
       "1    A sterre is sene in the bodie of the moon vpon...   \n",
       "2                                Bright starlike point   \n",
       "3                                                  NaN   \n",
       "4                                  Small whitish cloud   \n",
       "..                                                 ...   \n",
       "531             Black cloud surrounded by violet color   \n",
       "532  Bright yellow flash visible a fraction of a se...   \n",
       "533                                 Red color observed   \n",
       "534  Bright area moved 80 kmhr toward SSE and expan...   \n",
       "535                                        Aristarchus   \n",
       "\n",
       "                            Credit  \n",
       "0               Observers at Worms  \n",
       "1                        Anonymous  \n",
       "2           Several New Englanders  \n",
       "3                              NaN  \n",
       "4                        D.Cassini  \n",
       "..                             ...  \n",
       "531                 Montreal group  \n",
       "532  Mrs P.Jean and Montreal group  \n",
       "533                         Delano  \n",
       "534                         Harris  \n",
       "535                      High moon  \n",
       "\n",
       "[536 rows x 6 columns]"
      ],
      "text/html": "<div>\n<style scoped>\n    .dataframe tbody tr th:only-of-type {\n        vertical-align: middle;\n    }\n\n    .dataframe tbody tr th {\n        vertical-align: top;\n    }\n\n    .dataframe thead th {\n        text-align: right;\n    }\n</style>\n<table border=\"1\" class=\"dataframe\">\n  <thead>\n    <tr style=\"text-align: right;\">\n      <th></th>\n      <th>Year</th>\n      <th>Month</th>\n      <th>Day</th>\n      <th>Location</th>\n      <th>Description</th>\n      <th>Credit</th>\n    </tr>\n  </thead>\n  <tbody>\n    <tr>\n      <th>0</th>\n      <td>1540</td>\n      <td>Nov</td>\n      <td>26</td>\n      <td>Region of Calippus</td>\n      <td>Starlike appearance on dark side</td>\n      <td>Observers at Worms</td>\n    </tr>\n    <tr>\n      <th>1</th>\n      <td>1587</td>\n      <td>Mar</td>\n      <td>5</td>\n      <td>Dark Side</td>\n      <td>A sterre is sene in the bodie of the moon vpon...</td>\n      <td>Anonymous</td>\n    </tr>\n    <tr>\n      <th>2</th>\n      <td>1668</td>\n      <td>Nov</td>\n      <td>26</td>\n      <td>Dark Side</td>\n      <td>Bright starlike point</td>\n      <td>Several New Englanders</td>\n    </tr>\n    <tr>\n      <th>3</th>\n      <td>1671</td>\n      <td>Oct</td>\n      <td>21</td>\n      <td>Pitatus</td>\n      <td>NaN</td>\n      <td>NaN</td>\n    </tr>\n    <tr>\n      <th>4</th>\n      <td>1671</td>\n      <td>Nov</td>\n      <td>12</td>\n      <td>Pitatus</td>\n      <td>Small whitish cloud</td>\n      <td>D.Cassini</td>\n    </tr>\n    <tr>\n      <th>...</th>\n      <td>...</td>\n      <td>...</td>\n      <td>...</td>\n      <td>...</td>\n      <td>...</td>\n      <td>...</td>\n    </tr>\n    <tr>\n      <th>531</th>\n      <td>1967</td>\n      <td>Sep</td>\n      <td>11</td>\n      <td>Mare Tranquilitaties: 8-9 sec</td>\n      <td>Black cloud surrounded by violet color</td>\n      <td>Montreal group</td>\n    </tr>\n    <tr>\n      <th>532</th>\n      <td>1967</td>\n      <td>Sep</td>\n      <td>11</td>\n      <td>Sabine</td>\n      <td>Bright yellow flash visible a fraction of a se...</td>\n      <td>Mrs P.Jean and Montreal group</td>\n    </tr>\n    <tr>\n      <th>533</th>\n      <td>1967</td>\n      <td>Sep</td>\n      <td>17</td>\n      <td>Aristarchus</td>\n      <td>Red color observed</td>\n      <td>Delano</td>\n    </tr>\n    <tr>\n      <th>534</th>\n      <td>1967</td>\n      <td>Oct</td>\n      <td>10</td>\n      <td>SE of Ross D</td>\n      <td>Bright area moved 80 kmhr toward SSE and expan...</td>\n      <td>Harris</td>\n    </tr>\n    <tr>\n      <th>535</th>\n      <td>1967</td>\n      <td>Oct</td>\n      <td>19</td>\n      <td>Kepler</td>\n      <td>Aristarchus</td>\n      <td>High moon</td>\n    </tr>\n  </tbody>\n</table>\n<p>536 rows × 6 columns</p>\n</div>"
     },
     "metadata": {},
     "execution_count": 4
    }
   ],
   "source": [
    "import pandas as pd\n",
    "\n",
    "pd.read_csv('./moon.csv')\n",
    "\n",
    "\n",
    "\n",
    "\n"
   ]
  },
  {
   "cell_type": "code",
   "execution_count": null,
   "metadata": {},
   "outputs": [],
   "source": []
  }
 ],
 "metadata": {
  "kernelspec": {
   "name": "python3",
   "display_name": "Python 3.8.8 64-bit ('base': conda)"
  },
  "language_info": {
   "codemirror_mode": {
    "name": "ipython",
    "version": 3
   },
   "file_extension": ".py",
   "mimetype": "text/x-python",
   "name": "python",
   "nbconvert_exporter": "python",
   "pygments_lexer": "ipython3",
   "version": "3.8.8"
  },
  "interpreter": {
   "hash": "286e774b504df13e04a7d8e77e6d4af77665f84c20482e9e6db1a1f534c37820"
  }
 },
 "nbformat": 4,
 "nbformat_minor": 5
}